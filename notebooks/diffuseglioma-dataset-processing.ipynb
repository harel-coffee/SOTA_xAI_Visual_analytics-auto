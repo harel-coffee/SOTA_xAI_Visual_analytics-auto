{
 "cells": [
  {
   "cell_type": "code",
   "execution_count": 18,
   "metadata": {
    "id": "-qLNAP1vK1Je"
   },
   "outputs": [],
   "source": [
    "import pandas as pd\n",
    "import numpy as np\n",
    "import seaborn as sns\n",
    "\n",
    "from sklearn.linear_model import LogisticRegression\n",
    "from sklearn.ensemble import RandomForestClassifier\n",
    "from sklearn.ensemble import GradientBoostingClassifier\n",
    "\n",
    "from sklearn.metrics import classification_report, plot_confusion_matrix, plot_roc_curve, accuracy_score, confusion_matrix\n",
    "from sklearn.model_selection import train_test_split\n",
    "from sklearn import preprocessing\n",
    "\n",
    "import matplotlib.pyplot as plt\n",
    "\n"
   ]
  },
  {
   "cell_type": "code",
   "execution_count": 19,
   "metadata": {},
   "outputs": [],
   "source": [
    "import sys\n",
    "\n",
    "gdrive_project_root = '../' \n",
    "\n",
    "if 'google.colab' in sys.modules:\n",
    "    from google.colab import drive\n",
    "    # define project root / change to match your path\n",
    "    gdrive_project_root = \"drive/MyDrive/01-Education/03-PhD/2021/Courses/HCI/hci_code/\"\n",
    "    drive.mount('/content/drive', force_remount=True)  "
   ]
  },
  {
   "cell_type": "code",
   "execution_count": 20,
   "metadata": {
    "colab": {
     "base_uri": "https://localhost:8080/"
    },
    "id": "P3jEAwE1aB00",
    "outputId": "1513176a-c5dc-4fc4-d52f-1edabef61270"
   },
   "outputs": [
    {
     "name": "stdout",
     "output_type": "stream",
     "text": [
      "['GBM' 'ODG' 'AASTR' 'AODG' 'OAST' 'AOAST' 'ASTR']\n",
      "(1541, 263)\n",
      "(1489, 263)\n",
      "(1424, 263)\n",
      "(1376, 263)\n",
      "(1285, 263)\n",
      "(1285, 263)\n",
      "['GBM' 'ODG' 'AASTR']\n"
     ]
    }
   ],
   "source": [
    "# load gbm data with gene columns\n",
    "raw = pd.read_csv(gdrive_project_root + '/data/raw/combined_study_clinical_data_gbm_filtered_nas_new_with_gene_details_without_ns.tsv.csv', delimiter='\t')\n",
    "print(raw['Oncotree Code'].unique())\n",
    "print(raw.shape)\n",
    "#raw.drop(raw.index[raw['Oncotree Code'] == \"MNET\"], inplace=True)\n",
    "#print(raw.shape)\n",
    "raw.drop(raw.index[raw['Oncotree Code'] == \"ASTR\"], inplace=True)\n",
    "print(raw.shape)\n",
    "raw.drop(raw.index[raw['Oncotree Code'] == \"AODG\"], inplace=True)\n",
    "print(raw.shape)\n",
    "raw.drop(raw.index[raw['Oncotree Code'] == \"AOAST\"], inplace=True)\n",
    "print(raw.shape)\n",
    "raw.drop(raw.index[raw['Oncotree Code'] == \"OAST\"], inplace=True)\n",
    "print(raw.shape)\n",
    "# remove columns where majority of values is Nan or Zero\n",
    "raw.drop_duplicates()\n",
    "print(raw.shape)\n",
    "print(raw['Oncotree Code'].unique())"
   ]
  },
  {
   "cell_type": "code",
   "execution_count": 21,
   "metadata": {
    "colab": {
     "base_uri": "https://localhost:8080/"
    },
    "id": "BSGYVWGGLFrZ",
    "outputId": "eb5c8ef0-c03c-4bae-aa1e-5338f5bdea84"
   },
   "outputs": [
    {
     "name": "stdout",
     "output_type": "stream",
     "text": [
      "Index(['Study ID', 'Patient ID', 'Sample ID', 'Cancer Type Detailed',\n",
      "       'Mutation Count', 'Oncotree Code', 'Overall Survival (Months)',\n",
      "       'Overall Survival Status', 'Number of Samples Per Patient',\n",
      "       'Sample Type',\n",
      "       ...\n",
      "       'DYSF', 'IRS2', 'FCGBP', 'ADAMTS2', 'RALY', 'RBM23', 'RPTOR', 'DOCK5',\n",
      "       'PRRC2B', 'AQP7P1'],\n",
      "      dtype='object', length=263)\n"
     ]
    }
   ],
   "source": [
    "print(raw.columns) # list(raw.columns) # for complete list"
   ]
  },
  {
   "cell_type": "markdown",
   "metadata": {
    "id": "6rarpx9OLILq"
   },
   "source": []
  },
  {
   "cell_type": "code",
   "execution_count": 22,
   "metadata": {
    "colab": {
     "base_uri": "https://localhost:8080/"
    },
    "id": "P_3tJMdHVI9b",
    "outputId": "77775541-82bc-4993-c23e-181ade03701e"
   },
   "outputs": [
    {
     "name": "stdout",
     "output_type": "stream",
     "text": [
      "(1285, 253)\n",
      "(1285, 253)\n",
      "(1276, 253)\n",
      "[1, 0]\n",
      "[0, 1]\n",
      "[1, 0]\n",
      "[1, 2, 3]\n",
      "[1, 2, 3, 5]\n",
      "[1, 2]\n",
      "[1, 3, 2]\n"
     ]
    }
   ],
   "source": [
    "import math\n",
    "\n",
    "# Class for preprocessing data for better suitability to classification\n",
    "class DataPreprocessor:\n",
    "\n",
    "  @staticmethod\n",
    "  def isNanOrZero(value):\n",
    "      if isinstance(value, str):\n",
    "          if \"nan\" in value.lower() or \"0\" in value:\n",
    "              return True\n",
    "      elif isinstance(value, float):\n",
    "          if math.isnan(value) or value == 0.0:\n",
    "              return True\n",
    "      elif isinstance(value, int):\n",
    "          if value == 0:\n",
    "              return True\n",
    "      return False\n",
    "\n",
    "  @staticmethod\n",
    "  def deleteRowIfColumnIsNan(data_frame: pd.DataFrame, column_name: str):\n",
    "        for index, row in data_frame.iterrows():\n",
    "            if not (row[column_name] > 0):\n",
    "                data_frame.drop(index, inplace=True)\n",
    "        return data_frame\n",
    "\n",
    "  @staticmethod\n",
    "  def countMutations(data_frame: pd.DataFrame):\n",
    "      for column_name in data_frame:\n",
    "          if column_name not in ['Oncotree Code', 'Mutation Count', 'Overall Survival (Months)', 'Overall Survival Status', 'Sex', 'Somatic Status', 'Diagnosis Age']:\n",
    "              data_frame[column_name] = data_frame[column_name].astype(str).str.split(' ').str.len()\n",
    "      return data_frame\n",
    "\n",
    "  @staticmethod\n",
    "  def replaceNanValuesWithMedian(data_frame: pd.DataFrame):\n",
    "      return data_frame.fillna(data_frame.median())\n",
    "\n",
    "# define new data_frame with only interesting selecting of raw data\n",
    "df = raw[['Oncotree Code', 'Mutation Count', 'Overall Survival (Months)', 'Overall Survival Status', 'Sex', 'Somatic Status', 'Diagnosis Age', 'TP53', 'TERT', 'IDH1', 'ATRX', 'PABPC3', 'PTEN', 'MUC16', 'EGFR', 'CIC', 'NF1', 'MUC6', 'TAS2R46', 'TTN', 'MUC4', 'PIK3CA', 'MUC3A', 'NOTCH1', 'PIK3R1', 'TRBV7-7', 'SPRY3',  'KMT2D', 'MUC12', 'CNN2', 'RB1', 'GXYLT1', 'MST1P2', 'HLA-DRB5', 'SMARCA4', 'ARID1A', 'KMT2C', 'PDGFRA', 'FUBP1', 'FAT1', 'MUC17', 'MUC5B', 'SETD2', 'TRBV10-1', 'MUC2', 'CREBBP', 'ARID1B', 'UBXN11', \n",
    "         'SPEN', 'GOLGA6L2', 'ATM', 'PTPN11', 'STAG2', 'MAP3K1', 'NOTCH2', 'NOTCH4', 'FLG', 'MSH6', 'KMT2A', 'ZFHX3', 'MED12', 'BCOR', 'PCLO', 'BAGE2', 'ARID2', 'MGA', 'GRIN2A', 'NOTCH3', 'IGHJ6', 'OBSCN', 'BRCA2', 'EP300', 'HLA-DRB6','POLE', 'NSD1', 'HMCN1', 'HLA-DRB1', 'RYR2', 'APC', 'AHNAK2', 'FRG2B', 'PLIN4', 'FLT4', 'NEB', 'TRBV7-1', 'ATR', 'PIK3CG', 'NCOR1', 'NCOA3', 'PTPRT', 'TEKT4', 'MET', 'APOB', 'TSC2', 'TET2', 'CRIPAK', 'ZNF717', 'KDR', 'LRP2', 'USH2A', 'TRBV5-4', 'ANKRD11', 'CARD11', 'ASXL1', \n",
    "         'EPHA3', 'RELN', 'SYNE1', 'PBRM1', 'TRPM3', 'ADGRV1', 'ASPM', 'BRCA1', 'FANCA', 'IDH2', 'PIK3C2G', 'ROS1', 'DOT1L', 'ALK', 'BRAF', 'FLT1', 'MTOR', 'IRS1', 'KAZN', 'ANKRD30A', 'FAT2', 'HLA-DQA2', 'PLCG2', 'PTPRS', 'KDM5A', 'SPTA1', 'ZNF208', 'TMLHE', 'NHEJ1', 'LRP1B', 'SLC25A5', 'COL6A3', 'DNMT3A', 'ERBB4', 'PTPRD', 'DNAH2', 'DSPP', 'TSC1', 'FBN3', 'AR', 'EPHA5', 'KCNJ12', 'WNK1', 'AMER1', 'CACNA1A', 'DNAH5', 'FGFR3', 'PKHD1', 'RYR1', 'TCHH', 'AXL', 'MDC1', 'SF3B1', 'RIN3', 'SVEP1', 'COL18A1', \n",
    "         'FAT3', 'RICTOR', 'CDKN2C', 'DNMT1', 'IGF1R', 'MSH2', 'PRKDC', 'KDM5C', 'URI1', 'CDON', 'FRAS1', 'PARP1', 'INSR', 'MAP3K4', 'PLEC', 'PTCH1', 'DNAH11', 'TRBV5-6', 'ASXL2', 'ABCA13', 'CD163L1', 'DDX12P', 'NBPF10', 'PRDM1', 'CSF1R', 'DNAH9', 'GLI1', 'JAK3', 'PMS2', 'RYR3', 'ATXN1', 'ZNF141', 'TRRAP', 'MAGI1', 'DICER1', 'IGHV1-3', 'SPTBN5', 'EFCAB7', 'AXDND1', 'SLC9C1', 'LINC00955', 'PPIAL4G', 'ANK3', 'DACH1', 'ERBB2', 'GNAQ', 'JAK1', 'MST1R', 'KDM6A', 'ALMS1', 'MYH15', 'PDZRN3', 'BRD4', 'TRBV5-5', \n",
    "         'TMPRSS13', 'CDKN2A', 'ATN1', 'FGFR1', 'GNAS', 'KRT18', 'LAMA3', 'PGR', 'SOS2', 'VIL1', 'DCHS1', 'KMT2B', 'CD226', 'MPRIP', 'DNAH3', 'CEP290', 'KRTAP4-6', 'CSMD3', 'PRAG1', 'PKD1L1', 'CNOT6L', 'BCL6', 'ERBB3', 'HGF', 'KIT', 'MLH1', 'NRAP', 'POU4F2', 'SDHA', 'DYSF', 'IRS2', 'FCGBP', 'ADAMTS2', 'RALY', 'RBM23', 'RPTOR', 'DOCK5', 'PRRC2B', 'AQP7P1'\n",
    "         ]].copy(deep=True)\n",
    "\n",
    "# replace nan values with mean of column\n",
    "#df = DataPreprocessor.replaceNanValuesWithMedian(data_frame = df)\n",
    "print(df.shape)\n",
    "df = DataPreprocessor.countMutations(data_frame = df)\n",
    "print(df.shape)\n",
    "df.dropna(inplace=True) # remove nas\n",
    "print(df.shape)\n",
    "\n",
    "# since classifier cannot work with string but int/float, further encode data:\n",
    "\n",
    "#print(list(df['Overall Survival Status'].unique()))\n",
    "df.loc[df['Overall Survival Status']==\"1:DECEASED\",'Overall Survival Status']=1\n",
    "df.loc[df['Overall Survival Status']==\"0:LIVING\",'Overall Survival Status']=0\n",
    "print(list(df['Overall Survival Status'].unique()))\n",
    "\n",
    "#print(list(df['Sex'].unique()))\n",
    "df.loc[df['Sex']==\"Female\",'Sex']=1\n",
    "df.loc[df['Sex']==\"Male\",'Sex']=0\n",
    "print(list(df['Sex'].unique()))\n",
    "\n",
    "#print(list(df['Somatic Status'].unique()))\n",
    "df.loc[df['Somatic Status']==\"Matched\",'Somatic Status']=1\n",
    "df.loc[df['Somatic Status']==\"Unmatched\",'Somatic Status']=0\n",
    "print(list(df['Somatic Status'].unique()))\n",
    "\n",
    "print(list(df['TP53'].unique()))\n",
    "print(list(df['TERT'].unique()))\n",
    "print(list(df['IDH1'].unique()))\n",
    "\n",
    "#print(list(df['Oncotree Code'].sort_values().unique()))\n",
    "#['AASTR', 'AOAST', 'AODG', 'ASTR', 'GBM', 'OAST', 'ODG']\n",
    "df.loc[df['Oncotree Code']==\"GBM\",'Oncotree Code']=1\n",
    "df.loc[df['Oncotree Code']==\"AASTR\",'Oncotree Code']=2\n",
    "df.loc[df['Oncotree Code']==\"ODG\",'Oncotree Code']=3\n",
    "df.loc[df['Oncotree Code']==\"ASTR\",'Oncotree Code']=4\n",
    "df.loc[df['Oncotree Code']==\"OAST\",'Oncotree Code']=5\n",
    "df.loc[df['Oncotree Code']==\"AODG\",'Oncotree Code']=6\n",
    "df.loc[df['Oncotree Code']==\"AOAST\",'Oncotree Code']=7\n",
    "print(list(df['Oncotree Code'].unique()))\n"
   ]
  },
  {
   "cell_type": "code",
   "execution_count": 23,
   "metadata": {
    "colab": {
     "base_uri": "https://localhost:8080/"
    },
    "id": "aWMDl079LZPz",
    "outputId": "030bd457-6de7-4cde-dd48-28978c77d038"
   },
   "outputs": [
    {
     "name": "stdout",
     "output_type": "stream",
     "text": [
      "252\n",
      "1276\n"
     ]
    }
   ],
   "source": [
    "# outcommented: targeting survival\n",
    "# now using as target the first three most glioma subtypes: ['GBM' 'ODG' 'AASTR']\n",
    "\n",
    "#X_cols = ['Oncotree Code', 'Mutation Count', 'Overall Survival (Months)', 'Sex', 'Somatic Status', 'Diagnosis Age', 'TP53', 'TERT', 'IDH1', 'ATRX', 'PABPC3', 'PTEN', 'MUC16', 'EGFR', 'CIC', 'NF1', 'MUC6', 'TAS2R46', 'TTN', 'MUC4', 'PIK3CA', 'MUC3A', 'NOTCH1', 'PIK3R1', 'TRBV7-7', 'SPRY3',\n",
    "X_cols = ['Overall Survival Status', 'Mutation Count', 'Overall Survival (Months)', 'Sex', 'Somatic Status', 'Diagnosis Age', 'TP53', 'TERT', 'IDH1', 'ATRX', 'PABPC3', 'PTEN', 'MUC16', 'EGFR', 'CIC', 'NF1', 'MUC6', 'TAS2R46', 'TTN', 'MUC4', 'PIK3CA', 'MUC3A', 'NOTCH1', 'PIK3R1', 'TRBV7-7', 'SPRY3',\n",
    " 'KMT2D', 'MUC12', 'CNN2', 'RB1', 'GXYLT1', 'MST1P2', 'HLA-DRB5', 'SMARCA4', 'ARID1A', 'KMT2C', 'PDGFRA', 'FUBP1', 'FAT1', 'MUC17', 'MUC5B', 'SETD2', 'TRBV10-1', 'MUC2', 'CREBBP', 'ARID1B', 'UBXN11', 'SPEN', 'GOLGA6L2', 'ATM', 'PTPN11', 'STAG2', 'MAP3K1', 'NOTCH2', 'NOTCH4', 'FLG', 'MSH6', 'KMT2A', 'ZFHX3', 'MED12', 'BCOR', 'PCLO', 'BAGE2', 'ARID2', 'MGA', 'GRIN2A', 'NOTCH3', 'IGHJ6', 'OBSCN', 'BRCA2', 'EP300', 'HLA-DRB6','POLE', 'NSD1', 'HMCN1', 'HLA-DRB1', 'RYR2', 'APC', 'AHNAK2', 'FRG2B', 'PLIN4', 'FLT4',\n",
    " 'NEB', 'TRBV7-1', 'ATR', 'PIK3CG', 'NCOR1', 'NCOA3', 'PTPRT', 'TEKT4', 'MET', 'APOB', 'TSC2', 'TET2', 'CRIPAK', 'ZNF717', 'KDR', 'LRP2', 'USH2A', 'TRBV5-4', 'ANKRD11', 'CARD11', 'ASXL1', 'EPHA3', 'RELN', 'SYNE1', 'PBRM1', 'TRPM3', 'ADGRV1', 'ASPM', 'BRCA1', 'FANCA', 'IDH2', 'PIK3C2G', 'ROS1', 'DOT1L', 'ALK', 'BRAF', 'FLT1', 'MTOR', 'IRS1', 'KAZN', 'ANKRD30A', 'FAT2', 'HLA-DQA2', 'PLCG2', 'PTPRS', 'KDM5A', 'SPTA1', 'ZNF208', 'TMLHE', 'NHEJ1', 'LRP1B', 'SLC25A5', 'COL6A3', 'DNMT3A', 'ERBB4', 'PTPRD', 'DNAH2',\n",
    " 'DSPP', 'TSC1', 'FBN3', 'AR', 'EPHA5', 'KCNJ12', 'WNK1', 'AMER1', 'CACNA1A', 'DNAH5', 'FGFR3', 'PKHD1', 'RYR1', 'TCHH', 'AXL', 'MDC1', 'SF3B1', 'RIN3', 'SVEP1', 'COL18A1', 'FAT3', 'RICTOR', 'CDKN2C', 'DNMT1', 'IGF1R', 'MSH2', 'PRKDC', 'KDM5C', 'URI1', 'CDON', 'FRAS1', 'PARP1', 'INSR', 'MAP3K4', 'PLEC', 'PTCH1', 'DNAH11', 'TRBV5-6', 'ASXL2', 'ABCA13', 'CD163L1', 'DDX12P', 'NBPF10', 'PRDM1', 'CSF1R', 'DNAH9', 'GLI1', 'JAK3', 'PMS2', 'RYR3', 'ATXN1', 'ZNF141', 'TRRAP', 'MAGI1', 'DICER1', 'IGHV1-3', 'SPTBN5', \n",
    " 'EFCAB7', 'AXDND1', 'SLC9C1', 'LINC00955', 'PPIAL4G', 'ANK3', 'DACH1', 'ERBB2', 'GNAQ', 'JAK1', 'MST1R', 'KDM6A', 'ALMS1', 'MYH15', 'PDZRN3', 'BRD4', 'TRBV5-5', 'TMPRSS13', 'CDKN2A', 'ATN1', 'FGFR1', 'GNAS', 'KRT18', 'LAMA3', 'PGR', 'SOS2', 'VIL1', 'DCHS1', 'KMT2B', 'CD226', 'MPRIP', 'DNAH3', 'CEP290', 'KRTAP4-6', 'CSMD3', 'PRAG1', 'PKD1L1', 'CNOT6L', 'BCL6', 'ERBB3', 'HGF', 'KIT', 'MLH1', 'NRAP', 'POU4F2', 'SDHA', 'DYSF', 'IRS2', 'FCGBP', 'ADAMTS2', 'RALY', 'RBM23', 'RPTOR', 'DOCK5', 'PRRC2B', 'AQP7P1']\n",
    "#y_col = ['Overall Survival Status']\n",
    "y_col = ['Oncotree Code']\n",
    "\n",
    "X = df[X_cols]\n",
    "y = df[y_col]\n",
    "print(len(X.columns))\n",
    "print(len(y))"
   ]
  },
  {
   "cell_type": "code",
   "execution_count": 24,
   "metadata": {
    "colab": {
     "base_uri": "https://localhost:8080/"
    },
    "id": "wTsl9xw3L4vd",
    "outputId": "32627f4d-9199-48ed-ad52-bba2a0d85b40"
   },
   "outputs": [
    {
     "name": "stdout",
     "output_type": "stream",
     "text": [
      "(1020, 252) (256, 252) (1020, 1) (256, 1)\n"
     ]
    }
   ],
   "source": [
    "X_train, X_test, y_train, y_test = train_test_split(X, y, test_size = 0.2, random_state = 42)\n",
    "y_train=y_train.astype('int')\n",
    "y_test=y_test.astype('int')\n",
    "#y_train.hist()\n",
    "#y_test.hist()\n",
    "#X_train.hist()\n",
    "print(X_train.shape, X_test.shape, y_train.shape, y_test.shape)\n"
   ]
  },
  {
   "cell_type": "code",
   "execution_count": 25,
   "metadata": {},
   "outputs": [
    {
     "name": "stdout",
     "output_type": "stream",
     "text": [
      "1    695\n",
      "2    189\n",
      "3    136\n",
      "Name: Oncotree Code, dtype: int64\n",
      "1    177\n",
      "2     45\n",
      "3     34\n",
      "Name: Oncotree Code, dtype: int64\n"
     ]
    }
   ],
   "source": [
    "#print(X_train.value_counts())\n",
    "#print(X_test.value_counts())\n",
    "print(y_train['Oncotree Code'].value_counts())\n",
    "print(y_test['Oncotree Code'].value_counts())"
   ]
  },
  {
   "cell_type": "code",
   "execution_count": 34,
   "metadata": {
    "colab": {
     "base_uri": "https://localhost:8080/",
     "height": 636
    },
    "id": "Grb1O-OIMNNv",
    "outputId": "6112ba38-b58e-4e34-da12-5be36c6d802b"
   },
   "outputs": [
    {
     "name": "stderr",
     "output_type": "stream",
     "text": [
      "/home/abyss/anaconda3/lib/python3.7/site-packages/sklearn/utils/validation.py:760: DataConversionWarning: A column-vector y was passed when a 1d array was expected. Please change the shape of y to (n_samples, ), for example using ravel().\n",
      "  y = column_or_1d(y, warn=True)\n"
     ]
    },
    {
     "name": "stdout",
     "output_type": "stream",
     "text": [
      "              precision    recall  f1-score   support\n",
      "\n",
      "           1       0.82      0.93      0.87       177\n",
      "           2       0.50      0.36      0.42        45\n",
      "           3       0.70      0.47      0.56        34\n",
      "\n",
      "    accuracy                           0.77       256\n",
      "   macro avg       0.67      0.58      0.61       256\n",
      "weighted avg       0.74      0.77      0.75       256\n",
      "\n"
     ]
    },
    {
     "name": "stderr",
     "output_type": "stream",
     "text": [
      "/home/abyss/anaconda3/lib/python3.7/site-packages/sklearn/linear_model/_logistic.py:940: ConvergenceWarning: lbfgs failed to converge (status=1):\n",
      "STOP: TOTAL NO. of ITERATIONS REACHED LIMIT.\n",
      "\n",
      "Increase the number of iterations (max_iter) or scale the data as shown in:\n",
      "    https://scikit-learn.org/stable/modules/preprocessing.html\n",
      "Please also refer to the documentation for alternative solver options:\n",
      "    https://scikit-learn.org/stable/modules/linear_model.html#logistic-regression\n",
      "  extra_warning_msg=_LOGISTIC_SOLVER_CONVERGENCE_MSG)\n"
     ]
    },
    {
     "data": {
      "text/plain": [
       "<sklearn.metrics._plot.confusion_matrix.ConfusionMatrixDisplay at 0x7feb90f87828>"
      ]
     },
     "execution_count": 34,
     "metadata": {},
     "output_type": "execute_result"
    },
    {
     "data": {
      "image/png": "[encoded data removed]",
      "text/plain": [
       "<Figure size 432x288 with 2 Axes>"
      ]
     },
     "metadata": {
      "needs_background": "light"
     },
     "output_type": "display_data"
    }
   ],
   "source": [
    "clf = LogisticRegression().fit(X_train, y_train) #.values.ravel()\n",
    "predictions = clf.predict(X_test)\n",
    "print(classification_report(y_test, predictions))\n",
    "plot_confusion_matrix(clf, X_test, y_test, cmap = plt.cm.Blues, display_labels=[\"GBM\", \"AASTR\", \"ODG\"], values_format = '')"
   ]
  },
  {
   "cell_type": "code",
   "execution_count": 35,
   "metadata": {
    "colab": {
     "base_uri": "https://localhost:8080/",
     "height": 466
    },
    "id": "z0NJjijLTZvq",
    "outputId": "e1e23c56-e645-499c-c8c7-b6adae2f10dd"
   },
   "outputs": [
    {
     "name": "stdout",
     "output_type": "stream",
     "text": [
      "              precision    recall  f1-score   support\n",
      "\n",
      "           1       0.83      0.94      0.88       177\n",
      "           2       0.48      0.29      0.36        45\n",
      "           3       0.64      0.53      0.58        34\n",
      "\n",
      "    accuracy                           0.77       256\n",
      "   macro avg       0.65      0.59      0.61       256\n",
      "weighted avg       0.74      0.77      0.75       256\n",
      "\n"
     ]
    },
    {
     "data": {
      "text/plain": [
       "<sklearn.metrics._plot.confusion_matrix.ConfusionMatrixDisplay at 0x7feb91ad2a58>"
      ]
     },
     "execution_count": 35,
     "metadata": {},
     "output_type": "execute_result"
    },
    {
     "data": {
      "image/png": "[encoded data removed]",
      "text/plain": [
       "<Figure size 432x288 with 2 Axes>"
      ]
     },
     "metadata": {
      "needs_background": "light"
     },
     "output_type": "display_data"
    }
   ],
   "source": [
    "clf = RandomForestClassifier(n_estimators=100, random_state=42)\n",
    "clf.fit(X_train, y_train.values.ravel()) \n",
    "predictions = clf.predict(X_test)\n",
    "print(classification_report(y_test, predictions))\n",
    "plot_confusion_matrix(clf, X_test, y_test, cmap = plt.cm.Blues, display_labels=[\"GBM\", \"AASTR\", \"ODG\"], values_format = '')"
   ]
  },
  {
   "cell_type": "markdown",
   "metadata": {},
   "source": [
    "# Exporting the model and data"
   ]
  },
  {
   "cell_type": "code",
   "execution_count": 36,
   "metadata": {},
   "outputs": [
    {
     "data": {
      "text/plain": [
       "['../models/CLF_3classes_GBM-AASTR-ODG_RandomForest_100estimators_42_random_state.pkl']"
      ]
     },
     "execution_count": 36,
     "metadata": {},
     "output_type": "execute_result"
    }
   ],
   "source": [
    "import joblib\n",
    "\n",
    "# gdrive_project_root + '/data/processed/cancer_data_preprocessed.csv'\n",
    "\n",
    "joblib.dump(clf, gdrive_project_root+'models/CLF_3classes_GBM-AASTR-ODG_RandomForest_100estimators_42_random_state.pkl', compress=9)"
   ]
  }
 ],
 "metadata": {
  "colab": {
   "collapsed_sections": [],
   "name": "HCI-shap-vs-lime-takeouts.ipynb",
   "provenance": []
  },
  "kernelspec": {
   "display_name": "Python 3",
   "language": "python",
   "name": "python3"
  },
  "language_info": {
   "codemirror_mode": {
    "name": "ipython",
    "version": 3
   },
   "file_extension": ".py",
   "mimetype": "text/x-python",
   "name": "python",
   "nbconvert_exporter": "python",
   "pygments_lexer": "ipython3",
   "version": "3.7.3"
  }
 },
 "nbformat": 4,
 "nbformat_minor": 4
}
