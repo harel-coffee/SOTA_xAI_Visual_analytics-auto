{
 "cells": [
  {
   "cell_type": "markdown",
   "metadata": {
    "id": "C_7VtrUVi8UR"
   },
   "source": [
    "ExplainX\n",
    "---\n",
    "Expliration of the library"
   ]
  },
  {
   "cell_type": "code",
   "execution_count": 1,
   "metadata": {
    "colab": {
     "base_uri": "https://localhost:8080/",
     "height": 1000
    },
    "executionInfo": {
     "elapsed": 114674,
     "status": "ok",
     "timestamp": 1625127180917,
     "user": {
      "displayName": "Matej V",
      "photoUrl": "https://lh3.googleusercontent.com/a-/AOh14GiENDeMoSJzyZ5-UMFogmG4cDksNoCQoYPCcFRrxQ=s64",
      "userId": "02305982880680663234"
     },
     "user_tz": -120
    },
    "id": "zpJZViAjgWfH",
    "outputId": "faf898bb-3b2b-4613-ac22-6d6d86323ef3"
   },
   "outputs": [
    {
     "name": "stdout",
     "output_type": "stream",
     "text": [
      "Collecting explainx\n",
      "\u001b[?25l  Downloading https://files.pythonhosted.org/packages/f6/8a/222a06d865b10d9bac24a0edd8d026c29c9e9fcb950fc4f7f189cb812f72/explainx-2.407.tar.gz (792kB)\n",
      "\u001b[K     |████████████████████████████████| 798kB 5.0MB/s \n",
      "\u001b[?25hCollecting jupyter_dash==0.2.1.post1\n",
      "\u001b[?25l  Downloading https://files.pythonhosted.org/packages/da/b2/7d3698227512e98adb1d90f2596a8f4bae512eee9aaf7dfaf2e650642d34/jupyter_dash-0.2.1.post1-py3-none-any.whl (45kB)\n",
      "\u001b[K     |████████████████████████████████| 51kB 5.4MB/s \n",
      "\u001b[?25hCollecting dash_bootstrap_components==0.10.2\n",
      "\u001b[?25l  Downloading https://files.pythonhosted.org/packages/c3/ee/7301d452f241f10f4c296dc278144326c9afae4c126dc0dabd14f3c0b33c/dash-bootstrap-components-0.10.2.tar.gz (107kB)\n",
      "\u001b[K     |████████████████████████████████| 112kB 10.9MB/s \n",
      "\u001b[?25h  Installing build dependencies ... \u001b[?25l\u001b[?25hdone\n",
      "  Getting requirements to build wheel ... \u001b[?25l\u001b[?25hdone\n",
      "    Preparing wheel metadata ... \u001b[?25l\u001b[?25hdone\n",
      "Collecting dash==1.12.0\n",
      "\u001b[?25l  Downloading https://files.pythonhosted.org/packages/d0/48/7a564cdbecdca653c9cb135c5be52c98d855ac13e305094450d7ecac5d89/dash-1.12.0.tar.gz (66kB)\n",
      "\u001b[K     |████████████████████████████████| 71kB 5.5MB/s \n",
      "\u001b[?25hCollecting dash_core_components==1.10.0\n",
      "\u001b[?25l  Downloading https://files.pythonhosted.org/packages/4e/94/a170d86934cd845c4cb881e8156c79459702783716ea6d92849805127204/dash_core_components-1.10.0.tar.gz (3.4MB)\n",
      "\u001b[K     |████████████████████████████████| 3.4MB 10.9MB/s \n",
      "\u001b[?25hCollecting dash_html_components==1.0.3\n",
      "\u001b[?25l  Downloading https://files.pythonhosted.org/packages/da/20/46714ae501ccf16e5e37ca160c06e27347d19889687454168730e6744cdc/dash_html_components-1.0.3.tar.gz (187kB)\n",
      "\u001b[K     |████████████████████████████████| 194kB 39.1MB/s \n",
      "\u001b[?25hCollecting plotly==4.5.1\n",
      "\u001b[?25l  Downloading https://files.pythonhosted.org/packages/43/38/d2e6800ec9955b50f6b68cbd85a70a9795a89f25d1b1e8c413647eacb0e0/plotly-4.5.1-py2.py3-none-any.whl (7.1MB)\n",
      "\u001b[K     |████████████████████████████████| 7.1MB 19.8MB/s \n",
      "\u001b[?25hCollecting dash_table==4.7.0\n",
      "\u001b[?25l  Downloading https://files.pythonhosted.org/packages/96/aa/e508295638f3d4342b8798d16931a8b353ff48e03d9d99c788f34ddac110/dash_table-4.7.0.tar.gz (1.8MB)\n",
      "\u001b[K     |████████████████████████████████| 1.8MB 42.7MB/s \n",
      "\u001b[?25hCollecting pandas==1.0.4\n",
      "\u001b[?25l  Downloading https://files.pythonhosted.org/packages/a4/5f/1b6e0efab4bfb738478919d40b0e3e1a06e3d9996da45eb62a77e9a090d9/pandas-1.0.4-cp37-cp37m-manylinux1_x86_64.whl (10.1MB)\n",
      "\u001b[K     |████████████████████████████████| 10.1MB 40.8MB/s \n",
      "\u001b[?25hCollecting numpy==1.18.1\n",
      "\u001b[?25l  Downloading https://files.pythonhosted.org/packages/63/0c/0261693cc3ad8e2b66e66dc2d2676a2cc17d3efb1c58a70db73754320e47/numpy-1.18.1-cp37-cp37m-manylinux1_x86_64.whl (20.1MB)\n",
      "\u001b[K     |████████████████████████████████| 20.1MB 1.6MB/s \n",
      "\u001b[?25hCollecting cvxopt==1.2.4\n",
      "\u001b[?25l  Downloading https://files.pythonhosted.org/packages/e9/71/5a1bd147ba2100abb3dd91806a37c9fa6feb16549ebaf9b6c650a5268982/cvxopt-1.2.4-cp37-cp37m-manylinux1_x86_64.whl (11.6MB)\n",
      "\u001b[K     |████████████████████████████████| 11.6MB 20.9MB/s \n",
      "\u001b[?25hCollecting scikit-learn==0.22.1\n",
      "\u001b[?25l  Downloading https://files.pythonhosted.org/packages/73/db/7d8204ddba84ab5d1e4fd1af8f82bbe39c589488bee71e45c662f4144010/scikit_learn-0.22.1-cp37-cp37m-manylinux1_x86_64.whl (7.0MB)\n",
      "\u001b[K     |████████████████████████████████| 7.0MB 33.6MB/s \n",
      "\u001b[?25hRequirement already satisfied: scipy==1.4.1 in /usr/local/lib/python3.7/dist-packages (from explainx) (1.4.1)\n",
      "Collecting pandasql==0.7.3\n",
      "  Downloading https://files.pythonhosted.org/packages/6b/c4/ee4096ffa2eeeca0c749b26f0371bd26aa5c8b611c43de99a4f86d3de0a7/pandasql-0.7.3.tar.gz\n",
      "Collecting tqdm==4.47.0\n",
      "\u001b[?25l  Downloading https://files.pythonhosted.org/packages/46/62/7663894f67ac5a41a0d8812d78d9d2a9404124051885af9d77dc526fb399/tqdm-4.47.0-py2.py3-none-any.whl (66kB)\n",
      "\u001b[K     |████████████████████████████████| 71kB 8.3MB/s \n",
      "\u001b[?25hCollecting dash-editor-components==0.0.2\n",
      "  Downloading https://files.pythonhosted.org/packages/de/ca/ea517868785b4e9006fb49d56ab6e4ed78e8245fe8c48ae03e6adb7231a4/dash_editor_components-0.0.2.tar.gz\n",
      "Collecting shap==0.34.0\n",
      "\u001b[?25l  Downloading https://files.pythonhosted.org/packages/b8/db/58740847c0df6b346a999e3c375936436f4155354f6b644aa6e203bb40f3/shap-0.34.0.tar.gz (264kB)\n",
      "\u001b[K     |████████████████████████████████| 266kB 51.0MB/s \n",
      "\u001b[?25hCollecting dash_daq==0.5.0\n",
      "\u001b[?25l  Downloading https://files.pythonhosted.org/packages/16/c1/9c6adfc3646990965a5b2ca073f579cc9c09d15553fcfcd83aefd1255494/dash_daq-0.5.0.tar.gz (642kB)\n",
      "\u001b[K     |████████████████████████████████| 645kB 38.2MB/s \n",
      "\u001b[?25hCollecting pyrebase\n",
      "  Downloading https://files.pythonhosted.org/packages/4e/1f/86ec68bfe0d6ffeadbab2ab0651ddf1c7206a0c4421b39baeb69b3a9c5cd/Pyrebase-3.0.27-py3-none-any.whl\n",
      "Collecting h2o==3.30.1.3\n",
      "\u001b[?25l  Downloading https://files.pythonhosted.org/packages/bb/55/494a42e7509d0874aa444ae4cad0bc7439c936b40e563550fbfabb540275/h2o-3.30.1.3.tar.gz (129.4MB)\n",
      "\u001b[K     |████████████████████████████████| 129.4MB 76kB/s \n",
      "\u001b[?25hRequirement already satisfied: pytest in /usr/local/lib/python3.7/dist-packages (from explainx) (3.6.4)\n",
      "Requirement already satisfied: retrying in /usr/local/lib/python3.7/dist-packages (from jupyter_dash==0.2.1.post1->explainx) (1.3.3)\n",
      "Requirement already satisfied: requests in /usr/local/lib/python3.7/dist-packages (from jupyter_dash==0.2.1.post1->explainx) (2.23.0)\n",
      "Requirement already satisfied: ipython in /usr/local/lib/python3.7/dist-packages (from jupyter_dash==0.2.1.post1->explainx) (5.5.0)\n",
      "Requirement already satisfied: flask in /usr/local/lib/python3.7/dist-packages (from jupyter_dash==0.2.1.post1->explainx) (1.1.4)\n",
      "Requirement already satisfied: ipykernel in /usr/local/lib/python3.7/dist-packages (from jupyter_dash==0.2.1.post1->explainx) (4.10.1)\n",
      "Collecting ansi2html\n",
      "  Downloading https://files.pythonhosted.org/packages/c6/85/3a46be84afbb16b392a138cd396117f438c7b2e91d8dc327621d1ae1b5dc/ansi2html-1.6.0-py3-none-any.whl\n",
      "Collecting flask-compress\n",
      "  Downloading https://files.pythonhosted.org/packages/75/fa/a3c96f3f367ad1d6532fa8394c9a6f5879513868207096f6b41f4168b342/Flask_Compress-1.10.1-py3-none-any.whl\n",
      "Collecting dash_renderer==1.4.1\n",
      "\u001b[?25l  Downloading https://files.pythonhosted.org/packages/8e/51/45aa6e4caa3f426ac48b153ecf0fe371368aae46e3ea902c8317f630489a/dash_renderer-1.4.1.tar.gz (1.2MB)\n",
      "\u001b[K     |████████████████████████████████| 1.2MB 28.8MB/s \n",
      "\u001b[?25hRequirement already satisfied: future in /usr/local/lib/python3.7/dist-packages (from dash==1.12.0->explainx) (0.16.0)\n",
      "Requirement already satisfied: six in /usr/local/lib/python3.7/dist-packages (from plotly==4.5.1->explainx) (1.15.0)\n",
      "Requirement already satisfied: pytz>=2017.2 in /usr/local/lib/python3.7/dist-packages (from pandas==1.0.4->explainx) (2018.9)\n",
      "Requirement already satisfied: python-dateutil>=2.6.1 in /usr/local/lib/python3.7/dist-packages (from pandas==1.0.4->explainx) (2.8.1)\n",
      "Requirement already satisfied: joblib>=0.11 in /usr/local/lib/python3.7/dist-packages (from scikit-learn==0.22.1->explainx) (1.0.1)\n",
      "Requirement already satisfied: sqlalchemy in /usr/local/lib/python3.7/dist-packages (from pandasql==0.7.3->explainx) (1.4.18)\n",
      "Collecting pycryptodome==3.4.3\n",
      "\u001b[?25l  Downloading https://files.pythonhosted.org/packages/45/ef/4514a01be3d8f5383cd12fc5612ffd8a2508ac7e7ff6bde2da708e71c9a3/pycryptodome-3.4.3.tar.gz (6.5MB)\n",
      "\u001b[K     |████████████████████████████████| 6.5MB 25.5MB/s \n",
      "\u001b[?25hCollecting oauth2client==3.0.0\n",
      "\u001b[?25l  Downloading https://files.pythonhosted.org/packages/c0/7b/bc893e35d6ca46a72faa4b9eaac25c687ce60e1fbe978993fe2de1b0ff0d/oauth2client-3.0.0.tar.gz (77kB)\n",
      "\u001b[K     |████████████████████████████████| 81kB 7.8MB/s \n",
      "\u001b[?25hCollecting requests-toolbelt==0.7.0\n",
      "\u001b[?25l  Downloading https://files.pythonhosted.org/packages/57/60/cc85ca45c85585191e70e21687aeaa74ec4e555a1404628ba77b8af7d92e/requests_toolbelt-0.7.0-py2.py3-none-any.whl (52kB)\n",
      "\u001b[K     |████████████████████████████████| 61kB 6.8MB/s \n",
      "\u001b[?25hCollecting gcloud==0.17.0\n",
      "\u001b[?25l  Downloading https://files.pythonhosted.org/packages/0f/9d/56ecba02b4c117a43a906098095bccaea94d3edf57cb407c071efd87002f/gcloud-0.17.0.tar.gz (458kB)\n",
      "\u001b[K     |████████████████████████████████| 460kB 44.2MB/s \n",
      "\u001b[?25hCollecting python-jwt==2.0.1\n",
      "  Downloading https://files.pythonhosted.org/packages/dd/2a/9c4230b09f63737e7beb34e3a19895cd50c5ff88af16d3cd54cd71e2325a/python_jwt-2.0.1-py2.py3-none-any.whl\n",
      "Requirement already satisfied: tabulate in /usr/local/lib/python3.7/dist-packages (from h2o==3.30.1.3->explainx) (0.8.9)\n",
      "Collecting colorama>=0.3.8\n",
      "  Downloading https://files.pythonhosted.org/packages/44/98/5b86278fbbf250d239ae0ecb724f8572af1c91f4a11edf4d36a206189440/colorama-0.4.4-py2.py3-none-any.whl\n",
      "Requirement already satisfied: pluggy<0.8,>=0.5 in /usr/local/lib/python3.7/dist-packages (from pytest->explainx) (0.7.1)\n",
      "Requirement already satisfied: attrs>=17.4.0 in /usr/local/lib/python3.7/dist-packages (from pytest->explainx) (21.2.0)\n",
      "Requirement already satisfied: setuptools in /usr/local/lib/python3.7/dist-packages (from pytest->explainx) (57.0.0)\n",
      "Requirement already satisfied: atomicwrites>=1.0 in /usr/local/lib/python3.7/dist-packages (from pytest->explainx) (1.4.0)\n",
      "Requirement already satisfied: more-itertools>=4.0.0 in /usr/local/lib/python3.7/dist-packages (from pytest->explainx) (8.8.0)\n",
      "Requirement already satisfied: py>=1.5.0 in /usr/local/lib/python3.7/dist-packages (from pytest->explainx) (1.10.0)\n",
      "Requirement already satisfied: certifi>=2017.4.17 in /usr/local/lib/python3.7/dist-packages (from requests->jupyter_dash==0.2.1.post1->explainx) (2021.5.30)\n",
      "Requirement already satisfied: chardet<4,>=3.0.2 in /usr/local/lib/python3.7/dist-packages (from requests->jupyter_dash==0.2.1.post1->explainx) (3.0.4)\n",
      "Requirement already satisfied: urllib3!=1.25.0,!=1.25.1,<1.26,>=1.21.1 in /usr/local/lib/python3.7/dist-packages (from requests->jupyter_dash==0.2.1.post1->explainx) (1.24.3)\n",
      "Requirement already satisfied: idna<3,>=2.5 in /usr/local/lib/python3.7/dist-packages (from requests->jupyter_dash==0.2.1.post1->explainx) (2.10)\n",
      "Requirement already satisfied: traitlets>=4.2 in /usr/local/lib/python3.7/dist-packages (from ipython->jupyter_dash==0.2.1.post1->explainx) (5.0.5)\n",
      "Requirement already satisfied: pexpect; sys_platform != \"win32\" in /usr/local/lib/python3.7/dist-packages (from ipython->jupyter_dash==0.2.1.post1->explainx) (4.8.0)\n",
      "Requirement already satisfied: decorator in /usr/local/lib/python3.7/dist-packages (from ipython->jupyter_dash==0.2.1.post1->explainx) (4.4.2)\n",
      "Requirement already satisfied: prompt-toolkit<2.0.0,>=1.0.4 in /usr/local/lib/python3.7/dist-packages (from ipython->jupyter_dash==0.2.1.post1->explainx) (1.0.18)\n",
      "Requirement already satisfied: pickleshare in /usr/local/lib/python3.7/dist-packages (from ipython->jupyter_dash==0.2.1.post1->explainx) (0.7.5)\n",
      "Requirement already satisfied: pygments in /usr/local/lib/python3.7/dist-packages (from ipython->jupyter_dash==0.2.1.post1->explainx) (2.6.1)\n",
      "Requirement already satisfied: simplegeneric>0.8 in /usr/local/lib/python3.7/dist-packages (from ipython->jupyter_dash==0.2.1.post1->explainx) (0.8.1)\n",
      "Requirement already satisfied: Werkzeug<2.0,>=0.15 in /usr/local/lib/python3.7/dist-packages (from flask->jupyter_dash==0.2.1.post1->explainx) (1.0.1)\n",
      "Requirement already satisfied: itsdangerous<2.0,>=0.24 in /usr/local/lib/python3.7/dist-packages (from flask->jupyter_dash==0.2.1.post1->explainx) (1.1.0)\n",
      "Requirement already satisfied: Jinja2<3.0,>=2.10.1 in /usr/local/lib/python3.7/dist-packages (from flask->jupyter_dash==0.2.1.post1->explainx) (2.11.3)\n",
      "Requirement already satisfied: click<8.0,>=5.1 in /usr/local/lib/python3.7/dist-packages (from flask->jupyter_dash==0.2.1.post1->explainx) (7.1.2)\n",
      "Requirement already satisfied: tornado>=4.0 in /usr/local/lib/python3.7/dist-packages (from ipykernel->jupyter_dash==0.2.1.post1->explainx) (5.1.1)\n",
      "Requirement already satisfied: jupyter-client in /usr/local/lib/python3.7/dist-packages (from ipykernel->jupyter_dash==0.2.1.post1->explainx) (5.3.5)\n",
      "Collecting brotli\n",
      "\u001b[?25l  Downloading https://files.pythonhosted.org/packages/15/ea/5bd575511b37bbd1c794606a0a621e6feff8e96b7dd007a86a5d218b2d94/Brotli-1.0.9-cp37-cp37m-manylinux1_x86_64.whl (357kB)\n",
      "\u001b[K     |████████████████████████████████| 358kB 41.2MB/s \n",
      "\u001b[?25hRequirement already satisfied: greenlet!=0.4.17; python_version >= \"3\" in /usr/local/lib/python3.7/dist-packages (from sqlalchemy->pandasql==0.7.3->explainx) (1.1.0)\n",
      "Requirement already satisfied: importlib-metadata; python_version < \"3.8\" in /usr/local/lib/python3.7/dist-packages (from sqlalchemy->pandasql==0.7.3->explainx) (4.5.0)\n",
      "Requirement already satisfied: httplib2>=0.9.1 in /usr/local/lib/python3.7/dist-packages (from oauth2client==3.0.0->pyrebase->explainx) (0.17.4)\n",
      "Requirement already satisfied: pyasn1>=0.1.7 in /usr/local/lib/python3.7/dist-packages (from oauth2client==3.0.0->pyrebase->explainx) (0.4.8)\n",
      "Requirement already satisfied: pyasn1-modules>=0.0.5 in /usr/local/lib/python3.7/dist-packages (from oauth2client==3.0.0->pyrebase->explainx) (0.2.8)\n",
      "Requirement already satisfied: rsa>=3.1.4 in /usr/local/lib/python3.7/dist-packages (from oauth2client==3.0.0->pyrebase->explainx) (4.7.2)\n",
      "Requirement already satisfied: googleapis-common-protos in /usr/local/lib/python3.7/dist-packages (from gcloud==0.17.0->pyrebase->explainx) (1.53.0)\n",
      "Requirement already satisfied: protobuf!=3.0.0.b2.post1,>=3.0.0b2 in /usr/local/lib/python3.7/dist-packages (from gcloud==0.17.0->pyrebase->explainx) (3.12.4)\n",
      "Collecting jws>=0.1.3\n",
      "  Downloading https://files.pythonhosted.org/packages/01/9e/1536d578ed50f5fe8196310ddcc921a3cd8e973312d60ac74488b805d395/jws-0.1.3.tar.gz\n",
      "Requirement already satisfied: ipython-genutils in /usr/local/lib/python3.7/dist-packages (from traitlets>=4.2->ipython->jupyter_dash==0.2.1.post1->explainx) (0.2.0)\n",
      "Requirement already satisfied: ptyprocess>=0.5 in /usr/local/lib/python3.7/dist-packages (from pexpect; sys_platform != \"win32\"->ipython->jupyter_dash==0.2.1.post1->explainx) (0.7.0)\n",
      "Requirement already satisfied: wcwidth in /usr/local/lib/python3.7/dist-packages (from prompt-toolkit<2.0.0,>=1.0.4->ipython->jupyter_dash==0.2.1.post1->explainx) (0.2.5)\n",
      "Requirement already satisfied: MarkupSafe>=0.23 in /usr/local/lib/python3.7/dist-packages (from Jinja2<3.0,>=2.10.1->flask->jupyter_dash==0.2.1.post1->explainx) (2.0.1)\n",
      "Requirement already satisfied: pyzmq>=13 in /usr/local/lib/python3.7/dist-packages (from jupyter-client->ipykernel->jupyter_dash==0.2.1.post1->explainx) (22.1.0)\n",
      "Requirement already satisfied: jupyter-core>=4.6.0 in /usr/local/lib/python3.7/dist-packages (from jupyter-client->ipykernel->jupyter_dash==0.2.1.post1->explainx) (4.7.1)\n",
      "Requirement already satisfied: zipp>=0.5 in /usr/local/lib/python3.7/dist-packages (from importlib-metadata; python_version < \"3.8\"->sqlalchemy->pandasql==0.7.3->explainx) (3.4.1)\n",
      "Requirement already satisfied: typing-extensions>=3.6.4; python_version < \"3.8\" in /usr/local/lib/python3.7/dist-packages (from importlib-metadata; python_version < \"3.8\"->sqlalchemy->pandasql==0.7.3->explainx) (3.7.4.3)\n",
      "Building wheels for collected packages: dash-bootstrap-components\n",
      "  Building wheel for dash-bootstrap-components (PEP 517) ... \u001b[?25l\u001b[?25hdone\n",
      "  Created wheel for dash-bootstrap-components: filename=dash_bootstrap_components-0.10.2-cp37-none-any.whl size=179430 sha256=a0aea0471755484507515a64c13b1e81ef4bb5d5aba30f36d2d79909d7ff972b\n",
      "  Stored in directory: /root/.cache/pip/wheels/9c/43/0c/217c91bffd60529cc3db75721b4b7cd71adce98b969d31bcfa\n",
      "Successfully built dash-bootstrap-components\n",
      "Building wheels for collected packages: explainx, dash, dash-core-components, dash-html-components, dash-table, pandasql, dash-editor-components, shap, dash-daq, h2o, dash-renderer, pycryptodome, oauth2client, gcloud, jws\n",
      "  Building wheel for explainx (setup.py) ... \u001b[?25l\u001b[?25hdone\n",
      "  Created wheel for explainx: filename=explainx-2.407-cp37-none-any.whl size=821022 sha256=84aa61fddd65097c92ed85078ebef3453151b14c9c214619d01f44814d398f43\n",
      "  Stored in directory: /root/.cache/pip/wheels/7c/e4/1e/14383f974ce42f968aeb8b98b645ff353986aa3a32b0784d9e\n",
      "  Building wheel for dash (setup.py) ... \u001b[?25l\u001b[?25hdone\n",
      "  Created wheel for dash: filename=dash-1.12.0-cp37-none-any.whl size=73902 sha256=310b4c2055659190c7fdfcc23872db9b544e956017285ba8c0dcefffa1ccd44f\n",
      "  Stored in directory: /root/.cache/pip/wheels/2e/bc/dd/b4ebecb434c90eff7c5475efc10b72aad5a899c01fa87e2647\n",
      "  Building wheel for dash-core-components (setup.py) ... \u001b[?25l\u001b[?25hdone\n",
      "  Created wheel for dash-core-components: filename=dash_core_components-1.10.0-cp37-none-any.whl size=3454757 sha256=2e3af7b61e143205bdd5b5fce9e496d685c55fcd5233a16708daad28b940a0df\n",
      "  Stored in directory: /root/.cache/pip/wheels/61/5c/e3/0958785022517a2e5934e7b5167a8f824f79c96a5e440bd622\n",
      "  Building wheel for dash-html-components (setup.py) ... \u001b[?25l\u001b[?25hdone\n",
      "  Created wheel for dash-html-components: filename=dash_html_components-1.0.3-cp37-none-any.whl size=427325 sha256=04f6c564ff5fdcb6d6d1449a0632a415ba500697f59d225ffb7729be03f36ab1\n",
      "  Stored in directory: /root/.cache/pip/wheels/22/c0/79/ef4c2b20a23dc8457ae75c3da5f63163db213d86e13e00fe26\n",
      "  Building wheel for dash-table (setup.py) ... \u001b[?25l\u001b[?25hdone\n",
      "  Created wheel for dash-table: filename=dash_table-4.7.0-cp37-none-any.whl size=1777567 sha256=f1780c8189f0cb4126cf4c6a2e6de92c93cfdc3a7a06703bdec260cf6734f979\n",
      "  Stored in directory: /root/.cache/pip/wheels/de/59/d5/9da253860a20edebff16497d01b703d2a8db97130c5bd86fbf\n",
      "  Building wheel for pandasql (setup.py) ... \u001b[?25l\u001b[?25hdone\n",
      "  Created wheel for pandasql: filename=pandasql-0.7.3-cp37-none-any.whl size=26784 sha256=fa20b74c4d09e675b698c357ba8eb11159e3791d42ff4b412966e195a25d2fd0\n",
      "  Stored in directory: /root/.cache/pip/wheels/53/6c/18/b87a2e5fa8a82e9c026311de56210b8d1c01846e18a9607fc9\n",
      "  Building wheel for dash-editor-components (setup.py) ... \u001b[?25l\u001b[?25hdone\n",
      "  Created wheel for dash-editor-components: filename=dash_editor_components-0.0.2-cp37-none-any.whl size=41165 sha256=1ea3a9bfbc2cb7b7b7f8cf946f4c9e5aed404c129e085efb052566963266f3fa\n",
      "  Stored in directory: /root/.cache/pip/wheels/47/27/98/caf034c1f84407048baedeefc67c2d35999f8515a61d39fe44\n",
      "  Building wheel for shap (setup.py) ... \u001b[?25l\u001b[?25hdone\n",
      "  Created wheel for shap: filename=shap-0.34.0-cp37-cp37m-linux_x86_64.whl size=384419 sha256=07eb57a8a55fda319f5bdd42c565c225c580aa79f0a793e6e486b7f13111a0cc\n",
      "  Stored in directory: /root/.cache/pip/wheels/28/7e/28/57bc9fcb77579b0df6561298648249370648c0b91dfe42c8ec\n",
      "  Building wheel for dash-daq (setup.py) ... \u001b[?25l\u001b[?25hdone\n",
      "  Created wheel for dash-daq: filename=dash_daq-0.5.0-cp37-none-any.whl size=669715 sha256=f8fa99e30cce49a2f1183b9f1bdfb89372e9d1cdca71358f7df67d3615a86e5d\n",
      "  Stored in directory: /root/.cache/pip/wheels/1c/9c/f7/84731716eaa9fc952cdbdd1f87df3ca9b8805c317c609efcd6\n",
      "  Building wheel for h2o (setup.py) ... \u001b[?25l\u001b[?25hdone\n",
      "  Created wheel for h2o: filename=h2o-3.30.1.3-py2.py3-none-any.whl size=129446677 sha256=c0518995a4223fcdc3a9e4e69e510a17a50aab2e9ddf00fc2fd281a7b0b20d38\n",
      "  Stored in directory: /root/.cache/pip/wheels/3d/e6/07/53ce9be9cb61b33a79cb3ed1fc39f2dae84f6ee6fe1e373e5e\n",
      "  Building wheel for dash-renderer (setup.py) ... \u001b[?25l\u001b[?25hdone\n",
      "  Created wheel for dash-renderer: filename=dash_renderer-1.4.1-cp37-none-any.whl size=1165595 sha256=65c907ca12225d8dc201c7da6806fc9e55540116b17c4018c65660027b2ed1c1\n",
      "  Stored in directory: /root/.cache/pip/wheels/be/9e/83/c6531c3fdd6dba27156e7196c273148d850c97bda396fec7d0\n",
      "  Building wheel for pycryptodome (setup.py) ... \u001b[?25l\u001b[?25hdone\n",
      "  Created wheel for pycryptodome: filename=pycryptodome-3.4.3-cp37-cp37m-linux_x86_64.whl size=6813266 sha256=2bcc7dc3f8b500c45f9544e7d00991ae498b499e9bedff559bd3ea823fbb8690\n",
      "  Stored in directory: /root/.cache/pip/wheels/8f/9d/63/f6aea5612d1682a50b25857b0358e2ecec878a0bc42ba3af4c\n",
      "  Building wheel for oauth2client (setup.py) ... \u001b[?25l\u001b[?25hdone\n",
      "  Created wheel for oauth2client: filename=oauth2client-3.0.0-cp37-none-any.whl size=106376 sha256=47af8a5ecfe8ffd31d61ebe9fcf2edaa2889896586228ef47d0554ec7fad0260\n",
      "  Stored in directory: /root/.cache/pip/wheels/48/f7/87/b932f09c6335dbcf45d916937105a372ab14f353a9ca431d7d\n",
      "  Building wheel for gcloud (setup.py) ... \u001b[?25l\u001b[?25hdone\n",
      "  Created wheel for gcloud: filename=gcloud-0.17.0-cp37-none-any.whl size=638015 sha256=dc7b433faa90b02b81074abc90255b80f29bf42e6da71d08bcfd9ee623f92706\n",
      "  Stored in directory: /root/.cache/pip/wheels/b9/04/ff/66c87c7e2419fd477f52015468ec5301d9480b6f3896babda4\n",
      "  Building wheel for jws (setup.py) ... \u001b[?25l\u001b[?25hdone\n",
      "  Created wheel for jws: filename=jws-0.1.3-cp37-none-any.whl size=9411 sha256=8e90318df3a19f39f46f9cca05ae5d08b81e25024e4702f953c00117e46fde99\n",
      "  Stored in directory: /root/.cache/pip/wheels/42/66/97/11aed97607cb2379c1d35d02bdc159bcc3918eb0cc20f7eb9a\n",
      "Successfully built explainx dash dash-core-components dash-html-components dash-table pandasql dash-editor-components shap dash-daq h2o dash-renderer pycryptodome oauth2client gcloud jws\n",
      "\u001b[31mERROR: tensorflow 2.5.0 has requirement numpy~=1.19.2, but you'll have numpy 1.18.1 which is incompatible.\u001b[0m\n",
      "\u001b[31mERROR: pydrive 1.3.1 has requirement oauth2client>=4.0.0, but you'll have oauth2client 3.0.0 which is incompatible.\u001b[0m\n",
      "\u001b[31mERROR: kapre 0.3.5 has requirement numpy>=1.18.5, but you'll have numpy 1.18.1 which is incompatible.\u001b[0m\n",
      "\u001b[31mERROR: google-colab 1.0.0 has requirement pandas~=1.1.0; python_version >= \"3.0\", but you'll have pandas 1.0.4 which is incompatible.\u001b[0m\n",
      "\u001b[31mERROR: datascience 0.10.6 has requirement folium==0.2.1, but you'll have folium 0.8.3 which is incompatible.\u001b[0m\n",
      "\u001b[31mERROR: albumentations 0.1.12 has requirement imgaug<0.2.7,>=0.2.5, but you'll have imgaug 0.2.9 which is incompatible.\u001b[0m\n",
      "\u001b[31mERROR: pyrebase 3.0.27 has requirement requests==2.11.1, but you'll have requests 2.23.0 which is incompatible.\u001b[0m\n",
      "Installing collected packages: brotli, flask-compress, plotly, dash-renderer, dash-core-components, dash-html-components, dash-table, dash, ansi2html, jupyter-dash, dash-bootstrap-components, numpy, pandas, cvxopt, scikit-learn, pandasql, tqdm, dash-editor-components, shap, dash-daq, pycryptodome, oauth2client, requests-toolbelt, gcloud, jws, python-jwt, pyrebase, colorama, h2o, explainx\n",
      "  Found existing installation: plotly 4.4.1\n",
      "    Uninstalling plotly-4.4.1:\n",
      "      Successfully uninstalled plotly-4.4.1\n",
      "  Found existing installation: numpy 1.19.5\n",
      "    Uninstalling numpy-1.19.5:\n",
      "      Successfully uninstalled numpy-1.19.5\n",
      "  Found existing installation: pandas 1.1.5\n",
      "    Uninstalling pandas-1.1.5:\n",
      "      Successfully uninstalled pandas-1.1.5\n",
      "  Found existing installation: cvxopt 1.2.6\n",
      "    Uninstalling cvxopt-1.2.6:\n",
      "      Successfully uninstalled cvxopt-1.2.6\n",
      "  Found existing installation: scikit-learn 0.22.2.post1\n",
      "    Uninstalling scikit-learn-0.22.2.post1:\n",
      "      Successfully uninstalled scikit-learn-0.22.2.post1\n",
      "  Found existing installation: tqdm 4.41.1\n",
      "    Uninstalling tqdm-4.41.1:\n",
      "      Successfully uninstalled tqdm-4.41.1\n",
      "  Found existing installation: oauth2client 4.1.3\n",
      "    Uninstalling oauth2client-4.1.3:\n",
      "      Successfully uninstalled oauth2client-4.1.3\n",
      "Successfully installed ansi2html-1.6.0 brotli-1.0.9 colorama-0.4.4 cvxopt-1.2.4 dash-1.12.0 dash-bootstrap-components-0.10.2 dash-core-components-1.10.0 dash-daq-0.5.0 dash-editor-components-0.0.2 dash-html-components-1.0.3 dash-renderer-1.4.1 dash-table-4.7.0 explainx-2.407 flask-compress-1.10.1 gcloud-0.17.0 h2o-3.30.1.3 jupyter-dash-0.2.1.post1 jws-0.1.3 numpy-1.18.1 oauth2client-3.0.0 pandas-1.0.4 pandasql-0.7.3 plotly-4.5.1 pycryptodome-3.4.3 pyrebase-3.0.27 python-jwt-2.0.1 requests-toolbelt-0.7.0 scikit-learn-0.22.1 shap-0.34.0 tqdm-4.47.0\n"
     ]
    },
    {
     "data": {
      "application/vnd.colab-display-data+json": {
       "pip_warning": {
        "packages": [
         "numpy",
         "pandas"
        ]
       }
      }
     },
     "metadata": {
      "tags": []
     },
     "output_type": "display_data"
    }
   ],
   "source": [
    "!pip install explainx"
   ]
  },
  {
   "cell_type": "code",
   "execution_count": 1,
   "metadata": {
    "executionInfo": {
     "elapsed": 2877,
     "status": "ok",
     "timestamp": 1625127306561,
     "user": {
      "displayName": "Matej V",
      "photoUrl": "https://lh3.googleusercontent.com/a-/AOh14GiENDeMoSJzyZ5-UMFogmG4cDksNoCQoYPCcFRrxQ=s64",
      "userId": "02305982880680663234"
     },
     "user_tz": -120
    },
    "id": "k26UoIeGgkgW"
   },
   "outputs": [],
   "source": [
    "import warnings\n",
    "warnings.filterwarnings(\"ignore\", category=FutureWarning)\n",
    "\n",
    "import pandas as pd\n",
    "import numpy as np\n",
    "import seaborn as sns\n",
    "from google.colab import drive\n",
    "import joblib\n",
    "import matplotlib as plt\n",
    "\n",
    "from sklearn.metrics import classification_report, plot_confusion_matrix, plot_roc_curve, accuracy_score, confusion_matrix\n",
    "\n",
    "import explainx"
   ]
  },
  {
   "cell_type": "code",
   "execution_count": 2,
   "metadata": {
    "colab": {
     "base_uri": "https://localhost:8080/"
    },
    "executionInfo": {
     "elapsed": 20076,
     "status": "ok",
     "timestamp": 1625127327615,
     "user": {
      "displayName": "Matej V",
      "photoUrl": "https://lh3.googleusercontent.com/a-/AOh14GiENDeMoSJzyZ5-UMFogmG4cDksNoCQoYPCcFRrxQ=s64",
      "userId": "02305982880680663234"
     },
     "user_tz": -120
    },
    "id": "zO9AUanmgvs6",
    "outputId": "7e9093a9-2701-42b2-8b78-809123cda769"
   },
   "outputs": [
    {
     "name": "stdout",
     "output_type": "stream",
     "text": [
      "Mounted at /content/drive\n"
     ]
    }
   ],
   "source": [
    "drive.mount('/content/drive', force_remount=True)"
   ]
  },
  {
   "cell_type": "code",
   "execution_count": 3,
   "metadata": {
    "executionInfo": {
     "elapsed": 8,
     "status": "ok",
     "timestamp": 1625127327618,
     "user": {
      "displayName": "Matej V",
      "photoUrl": "https://lh3.googleusercontent.com/a-/AOh14GiENDeMoSJzyZ5-UMFogmG4cDksNoCQoYPCcFRrxQ=s64",
      "userId": "02305982880680663234"
     },
     "user_tz": -120
    },
    "id": "Wjs-4ewwifF7"
   },
   "outputs": [],
   "source": [
    "path_mv = \"drive/MyDrive/01-Education/03-PhD/2021/Courses/HCI/hci_code/\"\n",
    "path_mg = \"drive/MyDrive/HCI/hci_code/\"\n",
    "path_nj = \"\"\n",
    "\n",
    "# change to your private path\n",
    "gdrive_project_root = path_mv "
   ]
  },
  {
   "cell_type": "markdown",
   "metadata": {
    "id": "3cxp7VSmizBR"
   },
   "source": [
    "# Load data and replicate the model"
   ]
  },
  {
   "cell_type": "code",
   "execution_count": 4,
   "metadata": {
    "executionInfo": {
     "elapsed": 1420,
     "status": "ok",
     "timestamp": 1625127332053,
     "user": {
      "displayName": "Matej V",
      "photoUrl": "https://lh3.googleusercontent.com/a-/AOh14GiENDeMoSJzyZ5-UMFogmG4cDksNoCQoYPCcFRrxQ=s64",
      "userId": "02305982880680663234"
     },
     "user_tz": -120
    },
    "id": "eRSCfAt4iikE"
   },
   "outputs": [],
   "source": [
    "X = pd.read_csv(gdrive_project_root + 'data/processed/3_cls_model_input/X_3cls.csv')\n",
    "y = pd.read_csv(gdrive_project_root + 'data/processed/3_cls_model_input/y_3cls.csv')\n",
    "X_train = pd.read_csv(gdrive_project_root + 'data/processed/3_cls_model_input/X_train_3cls.csv')\n",
    "X_test = pd.read_csv(gdrive_project_root + 'data/processed/3_cls_model_input/X_test_3cls.csv')\n",
    "y_train = pd.read_csv(gdrive_project_root + 'data/processed/3_cls_model_input/y_train_3cls.csv')\n",
    "y_test = pd.read_csv(gdrive_project_root + 'data/processed/3_cls_model_input/y_test_3cls.csv')"
   ]
  },
  {
   "cell_type": "code",
   "execution_count": 5,
   "metadata": {
    "colab": {
     "base_uri": "https://localhost:8080/"
    },
    "executionInfo": {
     "elapsed": 631,
     "status": "ok",
     "timestamp": 1625127334132,
     "user": {
      "displayName": "Matej V",
      "photoUrl": "https://lh3.googleusercontent.com/a-/AOh14GiENDeMoSJzyZ5-UMFogmG4cDksNoCQoYPCcFRrxQ=s64",
      "userId": "02305982880680663234"
     },
     "user_tz": -120
    },
    "id": "aTDlN0K_iuAW",
    "outputId": "02012218-04ec-47bf-d1ce-6ea51c232857"
   },
   "outputs": [
    {
     "name": "stderr",
     "output_type": "stream",
     "text": [
      "Trying to unpickle estimator DecisionTreeClassifier from version 0.22.2.post1 when using version 0.22.1. This might lead to breaking code or invalid results. Use at your own risk.\n",
      "Trying to unpickle estimator RandomForestClassifier from version 0.22.2.post1 when using version 0.22.1. This might lead to breaking code or invalid results. Use at your own risk.\n"
     ]
    }
   ],
   "source": [
    "clf = joblib.load(gdrive_project_root+'models/CLF_3classes_GBM-PHC-AASTR_RandomForest_330estimators_42_random_state.pkl')"
   ]
  },
  {
   "cell_type": "code",
   "execution_count": 6,
   "metadata": {
    "colab": {
     "base_uri": "https://localhost:8080/"
    },
    "executionInfo": {
     "elapsed": 489,
     "status": "ok",
     "timestamp": 1625127335303,
     "user": {
      "displayName": "Matej V",
      "photoUrl": "https://lh3.googleusercontent.com/a-/AOh14GiENDeMoSJzyZ5-UMFogmG4cDksNoCQoYPCcFRrxQ=s64",
      "userId": "02305982880680663234"
     },
     "user_tz": -120
    },
    "id": "H2UnXSbFivZj",
    "outputId": "d237e90d-28f1-4cd8-ade3-60e4f5f5213f"
   },
   "outputs": [
    {
     "name": "stdout",
     "output_type": "stream",
     "text": [
      "Model accuracy: 0.7674418604651163 \n",
      "\n",
      "              precision    recall  f1-score   support\n",
      "\n",
      "           1       0.77      0.81      0.79        42\n",
      "           2       0.87      0.91      0.89        22\n",
      "           3       0.63      0.55      0.59        22\n",
      "\n",
      "    accuracy                           0.77        86\n",
      "   macro avg       0.76      0.75      0.75        86\n",
      "weighted avg       0.76      0.77      0.76        86\n",
      "\n"
     ]
    }
   ],
   "source": [
    "predictions = clf.predict(X_test)\n",
    "print(\"Model accuracy: %s \\n\" % accuracy_score(y_test, predictions))\n",
    "print(classification_report(y_test, predictions))"
   ]
  },
  {
   "cell_type": "code",
   "execution_count": 7,
   "metadata": {
    "colab": {
     "base_uri": "https://localhost:8080/",
     "height": 299
    },
    "executionInfo": {
     "elapsed": 539,
     "status": "ok",
     "timestamp": 1625127336592,
     "user": {
      "displayName": "Matej V",
      "photoUrl": "https://lh3.googleusercontent.com/a-/AOh14GiENDeMoSJzyZ5-UMFogmG4cDksNoCQoYPCcFRrxQ=s64",
      "userId": "02305982880680663234"
     },
     "user_tz": -120
    },
    "id": "Or6_SmwqixWa",
    "outputId": "b61d02f6-7048-40e5-cbb4-2dcf553277ae"
   },
   "outputs": [
    {
     "data": {
      "text/plain": [
       "<sklearn.metrics._plot.confusion_matrix.ConfusionMatrixDisplay at 0x7fd05ce69f10>"
      ]
     },
     "execution_count": 7,
     "metadata": {
      "tags": []
     },
     "output_type": "execute_result"
    },
    {
     "data": {
      "image/png": "[encoded data removed]",
      "text/plain": [
       "<Figure size 432x288 with 2 Axes>"
      ]
     },
     "metadata": {
      "needs_background": "light",
      "tags": []
     },
     "output_type": "display_data"
    }
   ],
   "source": [
    "plot_confusion_matrix(clf, X_test, y_test,cmap=plt.cm.Blues, display_labels=[\"GBM\", \"PHC\", \"AASTR\"], normalize = \"true\")"
   ]
  },
  {
   "cell_type": "code",
   "execution_count": 8,
   "metadata": {
    "executionInfo": {
     "elapsed": 279,
     "status": "ok",
     "timestamp": 1625127411669,
     "user": {
      "displayName": "Matej V",
      "photoUrl": "https://lh3.googleusercontent.com/a-/AOh14GiENDeMoSJzyZ5-UMFogmG4cDksNoCQoYPCcFRrxQ=s64",
      "userId": "02305982880680663234"
     },
     "user_tz": -120
    },
    "id": "LubAKsWSJEdY"
   },
   "outputs": [],
   "source": [
    "from explainx import * \n"
   ]
  },
  {
   "cell_type": "code",
   "execution_count": 20,
   "metadata": {
    "colab": {
     "base_uri": "https://localhost:8080/",
     "height": 1000,
     "referenced_widgets": [
      "3dfdd692e23344b08225fcac4c08ecd0",
      "f9c4db008ea14312bd23f9cdb16d7182",
      "cfe77080f7944db5ba8c4e08d4e791e3",
      "a001567bf12b4ce0b814f31fa1f503c1",
      "3b84c2833e3a4012b477b94d9ab2b348",
      "3c7202de319145ff96b5865fca7ecf78",
      "0d83824ae02f4ef78e338d3b38dc1aba",
      "aaf9807fc6354e1ab4c8c05bc6339b18"
     ]
    },
    "executionInfo": {
     "elapsed": 40682,
     "status": "error",
     "timestamp": 1625128450787,
     "user": {
      "displayName": "Matej V",
      "photoUrl": "https://lh3.googleusercontent.com/a-/AOh14GiENDeMoSJzyZ5-UMFogmG4cDksNoCQoYPCcFRrxQ=s64",
      "userId": "02305982880680663234"
     },
     "user_tz": -120
    },
    "id": "_a3z5i2OI2FZ",
    "outputId": "d616ac43-4870-46ed-a909-f57bfe804e53"
   },
   "outputs": [
    {
     "data": {
      "application/vnd.jupyter.widget-view+json": {
       "model_id": "3dfdd692e23344b08225fcac4c08ecd0",
       "version_major": 2,
       "version_minor": 0
      },
      "text/plain": [
       "HBox(children=(FloatProgress(value=0.0, max=86.0), HTML(value='')))"
      ]
     },
     "metadata": {
      "tags": []
     },
     "output_type": "display_data"
    },
    {
     "name": "stderr",
     "output_type": "stream",
     "text": [
      "l1_reg=\"auto\" is deprecated and in the next version (v0.29) the behavior will change from a conditional use of AIC to simply \"num_features(10)\"!\n",
      "l1_reg=\"auto\" is deprecated and in the next version (v0.29) the behavior will change from a conditional use of AIC to simply \"num_features(10)\"!\n",
      "l1_reg=\"auto\" is deprecated and in the next version (v0.29) the behavior will change from a conditional use of AIC to simply \"num_features(10)\"!\n",
      "l1_reg=\"auto\" is deprecated and in the next version (v0.29) the behavior will change from a conditional use of AIC to simply \"num_features(10)\"!\n",
      "l1_reg=\"auto\" is deprecated and in the next version (v0.29) the behavior will change from a conditional use of AIC to simply \"num_features(10)\"!\n",
      "l1_reg=\"auto\" is deprecated and in the next version (v0.29) the behavior will change from a conditional use of AIC to simply \"num_features(10)\"!\n",
      "l1_reg=\"auto\" is deprecated and in the next version (v0.29) the behavior will change from a conditional use of AIC to simply \"num_features(10)\"!\n",
      "l1_reg=\"auto\" is deprecated and in the next version (v0.29) the behavior will change from a conditional use of AIC to simply \"num_features(10)\"!\n",
      "l1_reg=\"auto\" is deprecated and in the next version (v0.29) the behavior will change from a conditional use of AIC to simply \"num_features(10)\"!\n",
      "l1_reg=\"auto\" is deprecated and in the next version (v0.29) the behavior will change from a conditional use of AIC to simply \"num_features(10)\"!\n",
      "l1_reg=\"auto\" is deprecated and in the next version (v0.29) the behavior will change from a conditional use of AIC to simply \"num_features(10)\"!\n",
      "l1_reg=\"auto\" is deprecated and in the next version (v0.29) the behavior will change from a conditional use of AIC to simply \"num_features(10)\"!\n",
      "l1_reg=\"auto\" is deprecated and in the next version (v0.29) the behavior will change from a conditional use of AIC to simply \"num_features(10)\"!\n",
      "l1_reg=\"auto\" is deprecated and in the next version (v0.29) the behavior will change from a conditional use of AIC to simply \"num_features(10)\"!\n",
      "l1_reg=\"auto\" is deprecated and in the next version (v0.29) the behavior will change from a conditional use of AIC to simply \"num_features(10)\"!\n",
      "l1_reg=\"auto\" is deprecated and in the next version (v0.29) the behavior will change from a conditional use of AIC to simply \"num_features(10)\"!\n",
      "l1_reg=\"auto\" is deprecated and in the next version (v0.29) the behavior will change from a conditional use of AIC to simply \"num_features(10)\"!\n",
      "l1_reg=\"auto\" is deprecated and in the next version (v0.29) the behavior will change from a conditional use of AIC to simply \"num_features(10)\"!\n",
      "l1_reg=\"auto\" is deprecated and in the next version (v0.29) the behavior will change from a conditional use of AIC to simply \"num_features(10)\"!\n",
      "l1_reg=\"auto\" is deprecated and in the next version (v0.29) the behavior will change from a conditional use of AIC to simply \"num_features(10)\"!\n",
      "l1_reg=\"auto\" is deprecated and in the next version (v0.29) the behavior will change from a conditional use of AIC to simply \"num_features(10)\"!\n",
      "l1_reg=\"auto\" is deprecated and in the next version (v0.29) the behavior will change from a conditional use of AIC to simply \"num_features(10)\"!\n",
      "l1_reg=\"auto\" is deprecated and in the next version (v0.29) the behavior will change from a conditional use of AIC to simply \"num_features(10)\"!\n",
      "l1_reg=\"auto\" is deprecated and in the next version (v0.29) the behavior will change from a conditional use of AIC to simply \"num_features(10)\"!\n",
      "l1_reg=\"auto\" is deprecated and in the next version (v0.29) the behavior will change from a conditional use of AIC to simply \"num_features(10)\"!\n",
      "l1_reg=\"auto\" is deprecated and in the next version (v0.29) the behavior will change from a conditional use of AIC to simply \"num_features(10)\"!\n",
      "l1_reg=\"auto\" is deprecated and in the next version (v0.29) the behavior will change from a conditional use of AIC to simply \"num_features(10)\"!\n",
      "l1_reg=\"auto\" is deprecated and in the next version (v0.29) the behavior will change from a conditional use of AIC to simply \"num_features(10)\"!\n",
      "l1_reg=\"auto\" is deprecated and in the next version (v0.29) the behavior will change from a conditional use of AIC to simply \"num_features(10)\"!\n",
      "l1_reg=\"auto\" is deprecated and in the next version (v0.29) the behavior will change from a conditional use of AIC to simply \"num_features(10)\"!\n",
      "l1_reg=\"auto\" is deprecated and in the next version (v0.29) the behavior will change from a conditional use of AIC to simply \"num_features(10)\"!\n",
      "l1_reg=\"auto\" is deprecated and in the next version (v0.29) the behavior will change from a conditional use of AIC to simply \"num_features(10)\"!\n",
      "l1_reg=\"auto\" is deprecated and in the next version (v0.29) the behavior will change from a conditional use of AIC to simply \"num_features(10)\"!\n",
      "l1_reg=\"auto\" is deprecated and in the next version (v0.29) the behavior will change from a conditional use of AIC to simply \"num_features(10)\"!\n",
      "l1_reg=\"auto\" is deprecated and in the next version (v0.29) the behavior will change from a conditional use of AIC to simply \"num_features(10)\"!\n",
      "l1_reg=\"auto\" is deprecated and in the next version (v0.29) the behavior will change from a conditional use of AIC to simply \"num_features(10)\"!\n",
      "l1_reg=\"auto\" is deprecated and in the next version (v0.29) the behavior will change from a conditional use of AIC to simply \"num_features(10)\"!\n",
      "l1_reg=\"auto\" is deprecated and in the next version (v0.29) the behavior will change from a conditional use of AIC to simply \"num_features(10)\"!\n",
      "l1_reg=\"auto\" is deprecated and in the next version (v0.29) the behavior will change from a conditional use of AIC to simply \"num_features(10)\"!\n",
      "l1_reg=\"auto\" is deprecated and in the next version (v0.29) the behavior will change from a conditional use of AIC to simply \"num_features(10)\"!\n",
      "l1_reg=\"auto\" is deprecated and in the next version (v0.29) the behavior will change from a conditional use of AIC to simply \"num_features(10)\"!\n",
      "l1_reg=\"auto\" is deprecated and in the next version (v0.29) the behavior will change from a conditional use of AIC to simply \"num_features(10)\"!\n",
      "l1_reg=\"auto\" is deprecated and in the next version (v0.29) the behavior will change from a conditional use of AIC to simply \"num_features(10)\"!\n",
      "l1_reg=\"auto\" is deprecated and in the next version (v0.29) the behavior will change from a conditional use of AIC to simply \"num_features(10)\"!\n",
      "l1_reg=\"auto\" is deprecated and in the next version (v0.29) the behavior will change from a conditional use of AIC to simply \"num_features(10)\"!\n",
      "l1_reg=\"auto\" is deprecated and in the next version (v0.29) the behavior will change from a conditional use of AIC to simply \"num_features(10)\"!\n",
      "l1_reg=\"auto\" is deprecated and in the next version (v0.29) the behavior will change from a conditional use of AIC to simply \"num_features(10)\"!\n",
      "l1_reg=\"auto\" is deprecated and in the next version (v0.29) the behavior will change from a conditional use of AIC to simply \"num_features(10)\"!\n",
      "l1_reg=\"auto\" is deprecated and in the next version (v0.29) the behavior will change from a conditional use of AIC to simply \"num_features(10)\"!\n",
      "l1_reg=\"auto\" is deprecated and in the next version (v0.29) the behavior will change from a conditional use of AIC to simply \"num_features(10)\"!\n",
      "l1_reg=\"auto\" is deprecated and in the next version (v0.29) the behavior will change from a conditional use of AIC to simply \"num_features(10)\"!\n",
      "l1_reg=\"auto\" is deprecated and in the next version (v0.29) the behavior will change from a conditional use of AIC to simply \"num_features(10)\"!\n",
      "l1_reg=\"auto\" is deprecated and in the next version (v0.29) the behavior will change from a conditional use of AIC to simply \"num_features(10)\"!\n",
      "l1_reg=\"auto\" is deprecated and in the next version (v0.29) the behavior will change from a conditional use of AIC to simply \"num_features(10)\"!\n",
      "l1_reg=\"auto\" is deprecated and in the next version (v0.29) the behavior will change from a conditional use of AIC to simply \"num_features(10)\"!\n",
      "l1_reg=\"auto\" is deprecated and in the next version (v0.29) the behavior will change from a conditional use of AIC to simply \"num_features(10)\"!\n",
      "l1_reg=\"auto\" is deprecated and in the next version (v0.29) the behavior will change from a conditional use of AIC to simply \"num_features(10)\"!\n",
      "l1_reg=\"auto\" is deprecated and in the next version (v0.29) the behavior will change from a conditional use of AIC to simply \"num_features(10)\"!\n",
      "l1_reg=\"auto\" is deprecated and in the next version (v0.29) the behavior will change from a conditional use of AIC to simply \"num_features(10)\"!\n",
      "l1_reg=\"auto\" is deprecated and in the next version (v0.29) the behavior will change from a conditional use of AIC to simply \"num_features(10)\"!\n",
      "l1_reg=\"auto\" is deprecated and in the next version (v0.29) the behavior will change from a conditional use of AIC to simply \"num_features(10)\"!\n",
      "l1_reg=\"auto\" is deprecated and in the next version (v0.29) the behavior will change from a conditional use of AIC to simply \"num_features(10)\"!\n",
      "l1_reg=\"auto\" is deprecated and in the next version (v0.29) the behavior will change from a conditional use of AIC to simply \"num_features(10)\"!\n",
      "l1_reg=\"auto\" is deprecated and in the next version (v0.29) the behavior will change from a conditional use of AIC to simply \"num_features(10)\"!\n",
      "l1_reg=\"auto\" is deprecated and in the next version (v0.29) the behavior will change from a conditional use of AIC to simply \"num_features(10)\"!\n",
      "l1_reg=\"auto\" is deprecated and in the next version (v0.29) the behavior will change from a conditional use of AIC to simply \"num_features(10)\"!\n",
      "l1_reg=\"auto\" is deprecated and in the next version (v0.29) the behavior will change from a conditional use of AIC to simply \"num_features(10)\"!\n",
      "l1_reg=\"auto\" is deprecated and in the next version (v0.29) the behavior will change from a conditional use of AIC to simply \"num_features(10)\"!\n",
      "l1_reg=\"auto\" is deprecated and in the next version (v0.29) the behavior will change from a conditional use of AIC to simply \"num_features(10)\"!\n",
      "l1_reg=\"auto\" is deprecated and in the next version (v0.29) the behavior will change from a conditional use of AIC to simply \"num_features(10)\"!\n",
      "l1_reg=\"auto\" is deprecated and in the next version (v0.29) the behavior will change from a conditional use of AIC to simply \"num_features(10)\"!\n",
      "l1_reg=\"auto\" is deprecated and in the next version (v0.29) the behavior will change from a conditional use of AIC to simply \"num_features(10)\"!\n",
      "l1_reg=\"auto\" is deprecated and in the next version (v0.29) the behavior will change from a conditional use of AIC to simply \"num_features(10)\"!\n",
      "l1_reg=\"auto\" is deprecated and in the next version (v0.29) the behavior will change from a conditional use of AIC to simply \"num_features(10)\"!\n",
      "l1_reg=\"auto\" is deprecated and in the next version (v0.29) the behavior will change from a conditional use of AIC to simply \"num_features(10)\"!\n",
      "l1_reg=\"auto\" is deprecated and in the next version (v0.29) the behavior will change from a conditional use of AIC to simply \"num_features(10)\"!\n",
      "l1_reg=\"auto\" is deprecated and in the next version (v0.29) the behavior will change from a conditional use of AIC to simply \"num_features(10)\"!\n",
      "l1_reg=\"auto\" is deprecated and in the next version (v0.29) the behavior will change from a conditional use of AIC to simply \"num_features(10)\"!\n",
      "l1_reg=\"auto\" is deprecated and in the next version (v0.29) the behavior will change from a conditional use of AIC to simply \"num_features(10)\"!\n",
      "l1_reg=\"auto\" is deprecated and in the next version (v0.29) the behavior will change from a conditional use of AIC to simply \"num_features(10)\"!\n",
      "l1_reg=\"auto\" is deprecated and in the next version (v0.29) the behavior will change from a conditional use of AIC to simply \"num_features(10)\"!\n",
      "l1_reg=\"auto\" is deprecated and in the next version (v0.29) the behavior will change from a conditional use of AIC to simply \"num_features(10)\"!\n",
      "l1_reg=\"auto\" is deprecated and in the next version (v0.29) the behavior will change from a conditional use of AIC to simply \"num_features(10)\"!\n",
      "l1_reg=\"auto\" is deprecated and in the next version (v0.29) the behavior will change from a conditional use of AIC to simply \"num_features(10)\"!\n",
      "l1_reg=\"auto\" is deprecated and in the next version (v0.29) the behavior will change from a conditional use of AIC to simply \"num_features(10)\"!\n",
      "l1_reg=\"auto\" is deprecated and in the next version (v0.29) the behavior will change from a conditional use of AIC to simply \"num_features(10)\"!\n"
     ]
    },
    {
     "name": "stdout",
     "output_type": "stream",
     "text": [
      "\n"
     ]
    },
    {
     "ename": "IndexError",
     "evalue": "ignored",
     "output_type": "error",
     "traceback": [
      "\u001b[0;31m---------------------------------------------------------------------------\u001b[0m",
      "\u001b[0;31mIndexError\u001b[0m                                Traceback (most recent call last)",
      "\u001b[0;32m<ipython-input-20-1b26be5f803d>\u001b[0m in \u001b[0;36m<module>\u001b[0;34m()\u001b[0m\n\u001b[0;32m----> 1\u001b[0;31m \u001b[0mexplainx\u001b[0m\u001b[0;34m.\u001b[0m\u001b[0mai\u001b[0m\u001b[0;34m(\u001b[0m\u001b[0mX_test\u001b[0m\u001b[0;34m,\u001b[0m \u001b[0my_test\u001b[0m\u001b[0;34m.\u001b[0m\u001b[0mvalues\u001b[0m\u001b[0;34m,\u001b[0m \u001b[0mclf\u001b[0m\u001b[0;34m,\u001b[0m \u001b[0mmodel_name\u001b[0m\u001b[0;34m=\u001b[0m\u001b[0;34m\"rf\"\u001b[0m\u001b[0;34m,\u001b[0m\u001b[0mmode\u001b[0m\u001b[0;34m=\u001b[0m\u001b[0;34m'inline'\u001b[0m\u001b[0;34m)\u001b[0m\u001b[0;34m\u001b[0m\u001b[0;34m\u001b[0m\u001b[0m\n\u001b[0m",
      "\u001b[0;32m/usr/local/lib/python3.7/dist-packages/explainx/explain.py\u001b[0m in \u001b[0;36mai\u001b[0;34m(self, df, y, model, model_name, mode)\u001b[0m\n\u001b[1;32m    177\u001b[0m         \u001b[0;31m# shap\u001b[0m\u001b[0;34m\u001b[0m\u001b[0;34m\u001b[0m\u001b[0;34m\u001b[0m\u001b[0m\n\u001b[1;32m    178\u001b[0m         \u001b[0mc\u001b[0m \u001b[0;34m=\u001b[0m \u001b[0mcalculate_shap\u001b[0m\u001b[0;34m(\u001b[0m\u001b[0;34m)\u001b[0m\u001b[0;34m\u001b[0m\u001b[0;34m\u001b[0m\u001b[0m\n\u001b[0;32m--> 179\u001b[0;31m         \u001b[0mself\u001b[0m\u001b[0;34m.\u001b[0m\u001b[0mdf_final\u001b[0m\u001b[0;34m,\u001b[0m \u001b[0mself\u001b[0m\u001b[0;34m.\u001b[0m\u001b[0mexplainer\u001b[0m \u001b[0;34m=\u001b[0m \u001b[0mc\u001b[0m\u001b[0;34m.\u001b[0m\u001b[0mfind\u001b[0m\u001b[0;34m(\u001b[0m\u001b[0mmodel\u001b[0m\u001b[0;34m,\u001b[0m \u001b[0mdf\u001b[0m\u001b[0;34m,\u001b[0m \u001b[0mprediction_col\u001b[0m\u001b[0;34m,\u001b[0m \u001b[0mis_classification\u001b[0m\u001b[0;34m,\u001b[0m \u001b[0mmodel_name\u001b[0m\u001b[0;34m=\u001b[0m\u001b[0mmodel_name\u001b[0m\u001b[0;34m)\u001b[0m\u001b[0;34m\u001b[0m\u001b[0;34m\u001b[0m\u001b[0m\n\u001b[0m\u001b[1;32m    180\u001b[0m \u001b[0;34m\u001b[0m\u001b[0m\n\u001b[1;32m    181\u001b[0m         \u001b[0;31m# Append Model Decision & True Labels Columns into the dataset.\u001b[0m\u001b[0;34m\u001b[0m\u001b[0;34m\u001b[0m\u001b[0;34m\u001b[0m\u001b[0m\n",
      "\u001b[0;32m/usr/local/lib/python3.7/dist-packages/explainx/lib/calculate_shap.py\u001b[0m in \u001b[0;36mfind\u001b[0;34m(self, model, df, prediction_col, is_classification, model_name)\u001b[0m\n\u001b[1;32m    262\u001b[0m         \u001b[0;32melse\u001b[0m\u001b[0;34m:\u001b[0m\u001b[0;34m\u001b[0m\u001b[0;34m\u001b[0m\u001b[0m\n\u001b[1;32m    263\u001b[0m             \u001b[0;32mif\u001b[0m \u001b[0mis_classification\u001b[0m\u001b[0;34m:\u001b[0m\u001b[0;34m\u001b[0m\u001b[0;34m\u001b[0m\u001b[0m\n\u001b[0;32m--> 264\u001b[0;31m                 \u001b[0mdf2\u001b[0m\u001b[0;34m,\u001b[0m \u001b[0mexplainer\u001b[0m \u001b[0;34m=\u001b[0m \u001b[0mself\u001b[0m\u001b[0;34m.\u001b[0m\u001b[0mkernel_shap_classification\u001b[0m\u001b[0;34m(\u001b[0m\u001b[0mmodel\u001b[0m\u001b[0;34m,\u001b[0m \u001b[0mdf\u001b[0m\u001b[0;34m,\u001b[0m \u001b[0mprediction_col\u001b[0m\u001b[0;34m)\u001b[0m\u001b[0;34m\u001b[0m\u001b[0;34m\u001b[0m\u001b[0m\n\u001b[0m\u001b[1;32m    265\u001b[0m             \u001b[0;32melse\u001b[0m\u001b[0;34m:\u001b[0m\u001b[0;34m\u001b[0m\u001b[0;34m\u001b[0m\u001b[0m\n\u001b[1;32m    266\u001b[0m                 \u001b[0mdf2\u001b[0m\u001b[0;34m,\u001b[0m \u001b[0mexplainer\u001b[0m \u001b[0;34m=\u001b[0m \u001b[0mself\u001b[0m\u001b[0;34m.\u001b[0m\u001b[0mkernel_shap\u001b[0m\u001b[0;34m(\u001b[0m\u001b[0mmodel\u001b[0m\u001b[0;34m,\u001b[0m \u001b[0mdf\u001b[0m\u001b[0;34m)\u001b[0m\u001b[0;34m\u001b[0m\u001b[0;34m\u001b[0m\u001b[0m\n",
      "\u001b[0;32m/usr/local/lib/python3.7/dist-packages/explainx/lib/calculate_shap.py\u001b[0m in \u001b[0;36mkernel_shap_classification\u001b[0;34m(self, model, X_train, prediction_col)\u001b[0m\n\u001b[1;32m     99\u001b[0m         \u001b[0mshap_values\u001b[0m \u001b[0;34m=\u001b[0m \u001b[0mexplainer\u001b[0m\u001b[0;34m.\u001b[0m\u001b[0mshap_values\u001b[0m\u001b[0;34m(\u001b[0m\u001b[0mX_train\u001b[0m\u001b[0;34m,\u001b[0m \u001b[0mnsamples\u001b[0m\u001b[0;34m=\u001b[0m\u001b[0;36m100\u001b[0m\u001b[0;34m)\u001b[0m\u001b[0;34m\u001b[0m\u001b[0;34m\u001b[0m\u001b[0m\n\u001b[1;32m    100\u001b[0m \u001b[0;34m\u001b[0m\u001b[0m\n\u001b[0;32m--> 101\u001b[0;31m         \u001b[0mpd_shap\u001b[0m \u001b[0;34m=\u001b[0m \u001b[0mself\u001b[0m\u001b[0;34m.\u001b[0m\u001b[0mselect_row_shap_values\u001b[0m\u001b[0;34m(\u001b[0m\u001b[0mshap_values\u001b[0m\u001b[0;34m,\u001b[0m \u001b[0mprediction_col\u001b[0m\u001b[0;34m)\u001b[0m\u001b[0;34m\u001b[0m\u001b[0;34m\u001b[0m\u001b[0m\n\u001b[0m\u001b[1;32m    102\u001b[0m         \u001b[0mall_columns\u001b[0m \u001b[0;34m=\u001b[0m \u001b[0mlist\u001b[0m\u001b[0;34m(\u001b[0m\u001b[0mX_train\u001b[0m\u001b[0;34m.\u001b[0m\u001b[0mcolumns\u001b[0m\u001b[0;34m)\u001b[0m\u001b[0;34m\u001b[0m\u001b[0;34m\u001b[0m\u001b[0m\n\u001b[1;32m    103\u001b[0m \u001b[0;34m\u001b[0m\u001b[0m\n",
      "\u001b[0;32m/usr/local/lib/python3.7/dist-packages/explainx/lib/calculate_shap.py\u001b[0m in \u001b[0;36mselect_row_shap_values\u001b[0;34m(self, shap_values, prediction_col)\u001b[0m\n\u001b[1;32m    139\u001b[0m         \u001b[0mdf_array\u001b[0m \u001b[0;34m=\u001b[0m \u001b[0;34m[\u001b[0m\u001b[0;34m]\u001b[0m\u001b[0;34m\u001b[0m\u001b[0;34m\u001b[0m\u001b[0m\n\u001b[1;32m    140\u001b[0m         \u001b[0;32mfor\u001b[0m \u001b[0mp\u001b[0m \u001b[0;32min\u001b[0m \u001b[0mprediction_col\u001b[0m\u001b[0;34m:\u001b[0m\u001b[0;34m\u001b[0m\u001b[0;34m\u001b[0m\u001b[0m\n\u001b[0;32m--> 141\u001b[0;31m             \u001b[0mdf_array\u001b[0m\u001b[0;34m.\u001b[0m\u001b[0mappend\u001b[0m\u001b[0;34m(\u001b[0m\u001b[0mshap_values\u001b[0m\u001b[0;34m[\u001b[0m\u001b[0mp\u001b[0m\u001b[0;34m]\u001b[0m\u001b[0;34m[\u001b[0m\u001b[0mpoint_no\u001b[0m\u001b[0;34m]\u001b[0m\u001b[0;34m)\u001b[0m\u001b[0;34m\u001b[0m\u001b[0;34m\u001b[0m\u001b[0m\n\u001b[0m\u001b[1;32m    142\u001b[0m             \u001b[0mpoint_no\u001b[0m \u001b[0;34m=\u001b[0m \u001b[0mpoint_no\u001b[0m \u001b[0;34m+\u001b[0m \u001b[0;36m1\u001b[0m\u001b[0;34m\u001b[0m\u001b[0;34m\u001b[0m\u001b[0m\n\u001b[1;32m    143\u001b[0m \u001b[0;34m\u001b[0m\u001b[0m\n",
      "\u001b[0;31mIndexError\u001b[0m: list index out of range"
     ]
    }
   ],
   "source": [
    "explainx.ai(X_test, y_test.values, clf, model_name=\"rf\",mode='inline')\n"
   ]
  }
 ],
 "metadata": {
  "colab": {
   "authorship_tag": "ABX9TyNNZgrO3uaDWDe/fJeW6p3F",
   "name": "1.0-MV-Explainx.ipynb",
   "provenance": [
    {
     "file_id": "1i1BKDWFrPpL_wq4IHiF7R0bngNEV9RjX",
     "timestamp": 1625126938520
    }
   ]
  },
  "kernelspec": {
   "display_name": "Python 3",
   "language": "python",
   "name": "python3"
  },
  "language_info": {
   "codemirror_mode": {
    "name": "ipython",
    "version": 3
   },
   "file_extension": ".py",
   "mimetype": "text/x-python",
   "name": "python",
   "nbconvert_exporter": "python",
   "pygments_lexer": "ipython3",
   "version": "3.6.10"
  },
  "widgets": {
   "application/vnd.jupyter.widget-state+json": {
    "0d83824ae02f4ef78e338d3b38dc1aba": {
     "model_module": "@jupyter-widgets/controls",
     "model_name": "DescriptionStyleModel",
     "state": {
      "_model_module": "@jupyter-widgets/controls",
      "_model_module_version": "1.5.0",
      "_model_name": "DescriptionStyleModel",
      "_view_count": null,
      "_view_module": "@jupyter-widgets/base",
      "_view_module_version": "1.2.0",
      "_view_name": "StyleView",
      "description_width": ""
     }
    },
    "3b84c2833e3a4012b477b94d9ab2b348": {
     "model_module": "@jupyter-widgets/controls",
     "model_name": "ProgressStyleModel",
     "state": {
      "_model_module": "@jupyter-widgets/controls",
      "_model_module_version": "1.5.0",
      "_model_name": "ProgressStyleModel",
      "_view_count": null,
      "_view_module": "@jupyter-widgets/base",
      "_view_module_version": "1.2.0",
      "_view_name": "StyleView",
      "bar_color": null,
      "description_width": "initial"
     }
    },
    "3c7202de319145ff96b5865fca7ecf78": {
     "model_module": "@jupyter-widgets/base",
     "model_name": "LayoutModel",
     "state": {
      "_model_module": "@jupyter-widgets/base",
      "_model_module_version": "1.2.0",
      "_model_name": "LayoutModel",
      "_view_count": null,
      "_view_module": "@jupyter-widgets/base",
      "_view_module_version": "1.2.0",
      "_view_name": "LayoutView",
      "align_content": null,
      "align_items": null,
      "align_self": null,
      "border": null,
      "bottom": null,
      "display": null,
      "flex": null,
      "flex_flow": null,
      "grid_area": null,
      "grid_auto_columns": null,
      "grid_auto_flow": null,
      "grid_auto_rows": null,
      "grid_column": null,
      "grid_gap": null,
      "grid_row": null,
      "grid_template_areas": null,
      "grid_template_columns": null,
      "grid_template_rows": null,
      "height": null,
      "justify_content": null,
      "justify_items": null,
      "left": null,
      "margin": null,
      "max_height": null,
      "max_width": null,
      "min_height": null,
      "min_width": null,
      "object_fit": null,
      "object_position": null,
      "order": null,
      "overflow": null,
      "overflow_x": null,
      "overflow_y": null,
      "padding": null,
      "right": null,
      "top": null,
      "visibility": null,
      "width": null
     }
    },
    "3dfdd692e23344b08225fcac4c08ecd0": {
     "model_module": "@jupyter-widgets/controls",
     "model_name": "HBoxModel",
     "state": {
      "_dom_classes": [],
      "_model_module": "@jupyter-widgets/controls",
      "_model_module_version": "1.5.0",
      "_model_name": "HBoxModel",
      "_view_count": null,
      "_view_module": "@jupyter-widgets/controls",
      "_view_module_version": "1.5.0",
      "_view_name": "HBoxView",
      "box_style": "",
      "children": [
       "IPY_MODEL_cfe77080f7944db5ba8c4e08d4e791e3",
       "IPY_MODEL_a001567bf12b4ce0b814f31fa1f503c1"
      ],
      "layout": "IPY_MODEL_f9c4db008ea14312bd23f9cdb16d7182"
     }
    },
    "a001567bf12b4ce0b814f31fa1f503c1": {
     "model_module": "@jupyter-widgets/controls",
     "model_name": "HTMLModel",
     "state": {
      "_dom_classes": [],
      "_model_module": "@jupyter-widgets/controls",
      "_model_module_version": "1.5.0",
      "_model_name": "HTMLModel",
      "_view_count": null,
      "_view_module": "@jupyter-widgets/controls",
      "_view_module_version": "1.5.0",
      "_view_name": "HTMLView",
      "description": "",
      "description_tooltip": null,
      "layout": "IPY_MODEL_aaf9807fc6354e1ab4c8c05bc6339b18",
      "placeholder": "​",
      "style": "IPY_MODEL_0d83824ae02f4ef78e338d3b38dc1aba",
      "value": " 86/86 [00:40&lt;00:00,  2.14it/s]"
     }
    },
    "aaf9807fc6354e1ab4c8c05bc6339b18": {
     "model_module": "@jupyter-widgets/base",
     "model_name": "LayoutModel",
     "state": {
      "_model_module": "@jupyter-widgets/base",
      "_model_module_version": "1.2.0",
      "_model_name": "LayoutModel",
      "_view_count": null,
      "_view_module": "@jupyter-widgets/base",
      "_view_module_version": "1.2.0",
      "_view_name": "LayoutView",
      "align_content": null,
      "align_items": null,
      "align_self": null,
      "border": null,
      "bottom": null,
      "display": null,
      "flex": null,
      "flex_flow": null,
      "grid_area": null,
      "grid_auto_columns": null,
      "grid_auto_flow": null,
      "grid_auto_rows": null,
      "grid_column": null,
      "grid_gap": null,
      "grid_row": null,
      "grid_template_areas": null,
      "grid_template_columns": null,
      "grid_template_rows": null,
      "height": null,
      "justify_content": null,
      "justify_items": null,
      "left": null,
      "margin": null,
      "max_height": null,
      "max_width": null,
      "min_height": null,
      "min_width": null,
      "object_fit": null,
      "object_position": null,
      "order": null,
      "overflow": null,
      "overflow_x": null,
      "overflow_y": null,
      "padding": null,
      "right": null,
      "top": null,
      "visibility": null,
      "width": null
     }
    },
    "cfe77080f7944db5ba8c4e08d4e791e3": {
     "model_module": "@jupyter-widgets/controls",
     "model_name": "FloatProgressModel",
     "state": {
      "_dom_classes": [],
      "_model_module": "@jupyter-widgets/controls",
      "_model_module_version": "1.5.0",
      "_model_name": "FloatProgressModel",
      "_view_count": null,
      "_view_module": "@jupyter-widgets/controls",
      "_view_module_version": "1.5.0",
      "_view_name": "ProgressView",
      "bar_style": "success",
      "description": "100%",
      "description_tooltip": null,
      "layout": "IPY_MODEL_3c7202de319145ff96b5865fca7ecf78",
      "max": 86,
      "min": 0,
      "orientation": "horizontal",
      "style": "IPY_MODEL_3b84c2833e3a4012b477b94d9ab2b348",
      "value": 86
     }
    },
    "f9c4db008ea14312bd23f9cdb16d7182": {
     "model_module": "@jupyter-widgets/base",
     "model_name": "LayoutModel",
     "state": {
      "_model_module": "@jupyter-widgets/base",
      "_model_module_version": "1.2.0",
      "_model_name": "LayoutModel",
      "_view_count": null,
      "_view_module": "@jupyter-widgets/base",
      "_view_module_version": "1.2.0",
      "_view_name": "LayoutView",
      "align_content": null,
      "align_items": null,
      "align_self": null,
      "border": null,
      "bottom": null,
      "display": null,
      "flex": null,
      "flex_flow": null,
      "grid_area": null,
      "grid_auto_columns": null,
      "grid_auto_flow": null,
      "grid_auto_rows": null,
      "grid_column": null,
      "grid_gap": null,
      "grid_row": null,
      "grid_template_areas": null,
      "grid_template_columns": null,
      "grid_template_rows": null,
      "height": null,
      "justify_content": null,
      "justify_items": null,
      "left": null,
      "margin": null,
      "max_height": null,
      "max_width": null,
      "min_height": null,
      "min_width": null,
      "object_fit": null,
      "object_position": null,
      "order": null,
      "overflow": null,
      "overflow_x": null,
      "overflow_y": null,
      "padding": null,
      "right": null,
      "top": null,
      "visibility": null,
      "width": null
     }
    }
   }
  }
 },
 "nbformat": 4,
 "nbformat_minor": 4
}
