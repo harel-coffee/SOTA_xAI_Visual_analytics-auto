{
 "cells": [
  {
   "cell_type": "markdown",
   "id": "740216a7-02ad-4cf0-9733-f0d94aa04011",
   "metadata": {
    "tags": []
   },
   "source": [
    "# Example for loading the model build after feature selection\n",
    "---\n"
   ]
  },
  {
   "cell_type": "code",
   "execution_count": 9,
   "id": "83e1b90d-9dfd-47f0-a609-53f88a7973e5",
   "metadata": {
    "id": "l30dypyJD6xw"
   },
   "outputs": [],
   "source": [
    "import warnings\n",
    "warnings.filterwarnings(\"ignore\", category=FutureWarning)\n",
    "\n",
    "import pandas as pd\n",
    "import numpy as np\n",
    "import seaborn as sns\n",
    "import joblib\n",
    "import matplotlib as plt\n",
    "\n",
    "from sklearn.metrics import classification_report, plot_confusion_matrix, plot_roc_curve, accuracy_score, confusion_matrix\n",
    "\n",
    "import eli5\n",
    "from eli5.sklearn import PermutationImportance\n",
    "from sklearn.svm import SVC\n",
    "from sklearn.feature_selection import SelectFromModel\n",
    "from sklearn.ensemble import RandomForestClassifier\n"
   ]
  },
  {
   "cell_type": "code",
   "execution_count": 10,
   "id": "e2f47d91-1cc3-4d41-869a-677eed3c6bbd",
   "metadata": {
    "colab": {
     "base_uri": "https://localhost:8080/"
    },
    "id": "gxE3kdC9B5ys",
    "outputId": "87fd4da5-3ed4-4515-9d13-c45dd58a4dd2"
   },
   "outputs": [],
   "source": [
    "import sys\n",
    "\n",
    "gdrive_project_root = '../' \n",
    "is_cloud = False\n",
    "\n",
    "if 'google.colab' in sys.modules:\n",
    "    is_cloud = True\n",
    "    from google.colab import drive\n",
    "    # define project root / change to match your path\n",
    "    path_mv = \"drive/MyDrive/01-Education/03-PhD/2021/Courses/HCI/hci_code/\"\n",
    "    path_mg = \"drive/MyDrive/HCI/hci_code/\"\n",
    "    path_nj = \"\"\n",
    "\n",
    "    # change to your private path\n",
    "    gdrive_project_root = path_mv\n",
    "    drive.mount('/content/drive', force_remount=True)  "
   ]
  },
  {
   "cell_type": "code",
   "execution_count": 11,
   "id": "e7a60ca2-288b-4fd4-abee-14fc35d424b6",
   "metadata": {
    "id": "loRQ_k2LpGaA"
   },
   "outputs": [],
   "source": [
    "X = pd.read_csv(gdrive_project_root  + 'data/processed/2nd_dataset/3_cls_model_input/X_top20_3cls.csv')\n",
    "y = pd.read_csv(gdrive_project_root + 'data/processed/2nd_dataset/3_cls_model_input/y_top20_3cls.csv')\n",
    "X_train = pd.read_csv(gdrive_project_root + 'data/processed/2nd_dataset/3_cls_model_input/X_top20_train_3cls.csv')\n",
    "X_test = pd.read_csv(gdrive_project_root + 'data/processed/2nd_dataset/3_cls_model_input/X_top20_test_3cls.csv')\n",
    "y_train = pd.read_csv(gdrive_project_root + 'data/processed/2nd_dataset/3_cls_model_input/y_top20_train_3cls.csv')\n",
    "y_test = pd.read_csv(gdrive_project_root + 'data/processed/2nd_dataset/3_cls_model_input/y_top20_test_3cls.csv')"
   ]
  },
  {
   "cell_type": "code",
   "execution_count": 12,
   "id": "e36cb395-b117-459b-9a67-e9b23f94cd30",
   "metadata": {
    "id": "n_1tO44PpwXk",
    "outputId": "0ed5762c-6264-466f-c68a-db10e8d001ee"
   },
   "outputs": [],
   "source": [
    "clf = joblib.load(gdrive_project_root + 'models/Feature_Selected_CLF_3classes_GBM-AASTR-ODG_RandomForest_100estimators_42_random_state.pkl')"
   ]
  },
  {
   "cell_type": "code",
   "execution_count": 13,
   "id": "c76db020-97db-429d-a511-6bcbf26b1adb",
   "metadata": {
    "colab": {
     "base_uri": "https://localhost:8080/"
    },
    "id": "g7HlAJKWpwiX",
    "outputId": "2cb1384c-d66a-4f45-a6b4-c85616afa367"
   },
   "outputs": [
    {
     "name": "stdout",
     "output_type": "stream",
     "text": [
      "Model accuracy: 0.79296875 \n",
      "\n",
      "              precision    recall  f1-score   support\n",
      "\n",
      "           1       0.83      0.96      0.89       177\n",
      "           2       0.62      0.29      0.39        45\n",
      "           3       0.67      0.59      0.62        34\n",
      "\n",
      "    accuracy                           0.79       256\n",
      "   macro avg       0.70      0.61      0.64       256\n",
      "weighted avg       0.77      0.79      0.77       256\n",
      "\n"
     ]
    }
   ],
   "source": [
    "predictions = clf.predict(X_test)\n",
    "print(\"Model accuracy: %s \\n\" % accuracy_score(y_test, predictions))\n",
    "print(classification_report(y_test, predictions))"
   ]
  },
  {
   "cell_type": "code",
   "execution_count": 14,
   "id": "9ec56d67-802b-4fe0-9cb2-293ac9c427aa",
   "metadata": {
    "colab": {
     "base_uri": "https://localhost:8080/",
     "height": 298
    },
    "id": "GIzHBamJp6Tj",
    "outputId": "d2b985e6-860b-4cb4-b273-0a760090151b"
   },
   "outputs": [
    {
     "data": {
      "text/plain": [
       "<sklearn.metrics._plot.confusion_matrix.ConfusionMatrixDisplay at 0x7f6170cbf610>"
      ]
     },
     "execution_count": 14,
     "metadata": {},
     "output_type": "execute_result"
    },
    {
     "data": {
      "image/png": "[encoded data removed]",
      "text/plain": [
       "<Figure size 432x288 with 2 Axes>"
      ]
     },
     "metadata": {
      "needs_background": "light"
     },
     "output_type": "display_data"
    }
   ],
   "source": [
    "plot_confusion_matrix(clf, X_test, y_test, cmap = plt.cm.Blues, display_labels=[\"GBM\", \"AASTR\", \"ODG\"], values_format = '')"
   ]
  },
  {
   "cell_type": "code",
   "execution_count": 16,
   "id": "dc605072-3f31-4d18-84df-22eb62493483",
   "metadata": {},
   "outputs": [
    {
     "data": {
      "text/html": [
       "<div>\n",
       "<style scoped>\n",
       "    .dataframe tbody tr th:only-of-type {\n",
       "        vertical-align: middle;\n",
       "    }\n",
       "\n",
       "    .dataframe tbody tr th {\n",
       "        vertical-align: top;\n",
       "    }\n",
       "\n",
       "    .dataframe thead th {\n",
       "        text-align: right;\n",
       "    }\n",
       "</style>\n",
       "<table border=\"1\" class=\"dataframe\">\n",
       "  <thead>\n",
       "    <tr style=\"text-align: right;\">\n",
       "      <th></th>\n",
       "      <th>Feature</th>\n",
       "    </tr>\n",
       "  </thead>\n",
       "  <tbody>\n",
       "    <tr>\n",
       "      <th>Overall Survival (Months)</th>\n",
       "      <td>0.343516</td>\n",
       "    </tr>\n",
       "    <tr>\n",
       "      <th>Diagnosis Age</th>\n",
       "      <td>0.299537</td>\n",
       "    </tr>\n",
       "    <tr>\n",
       "      <th>Mutation Count</th>\n",
       "      <td>0.177018</td>\n",
       "    </tr>\n",
       "    <tr>\n",
       "      <th>Overall Survival Status</th>\n",
       "      <td>0.038121</td>\n",
       "    </tr>\n",
       "    <tr>\n",
       "      <th>Sex</th>\n",
       "      <td>0.030935</td>\n",
       "    </tr>\n",
       "    <tr>\n",
       "      <th>TP53</th>\n",
       "      <td>0.026421</td>\n",
       "    </tr>\n",
       "    <tr>\n",
       "      <th>CIC</th>\n",
       "      <td>0.023499</td>\n",
       "    </tr>\n",
       "    <tr>\n",
       "      <th>Somatic Status</th>\n",
       "      <td>0.017790</td>\n",
       "    </tr>\n",
       "    <tr>\n",
       "      <th>EGFR</th>\n",
       "      <td>0.009234</td>\n",
       "    </tr>\n",
       "    <tr>\n",
       "      <th>NOTCH1</th>\n",
       "      <td>0.008833</td>\n",
       "    </tr>\n",
       "    <tr>\n",
       "      <th>ATRX</th>\n",
       "      <td>0.008488</td>\n",
       "    </tr>\n",
       "    <tr>\n",
       "      <th>NF1</th>\n",
       "      <td>0.007118</td>\n",
       "    </tr>\n",
       "    <tr>\n",
       "      <th>KMT2D</th>\n",
       "      <td>0.004216</td>\n",
       "    </tr>\n",
       "    <tr>\n",
       "      <th>TERT</th>\n",
       "      <td>0.002553</td>\n",
       "    </tr>\n",
       "    <tr>\n",
       "      <th>NCOR1</th>\n",
       "      <td>0.001423</td>\n",
       "    </tr>\n",
       "    <tr>\n",
       "      <th>PIK3CA</th>\n",
       "      <td>0.001296</td>\n",
       "    </tr>\n",
       "  </tbody>\n",
       "</table>\n",
       "</div>"
      ],
      "text/plain": [
       "                            Feature\n",
       "Overall Survival (Months)  0.343516\n",
       "Diagnosis Age              0.299537\n",
       "Mutation Count             0.177018\n",
       "Overall Survival Status    0.038121\n",
       "Sex                        0.030935\n",
       "TP53                       0.026421\n",
       "CIC                        0.023499\n",
       "Somatic Status             0.017790\n",
       "EGFR                       0.009234\n",
       "NOTCH1                     0.008833\n",
       "ATRX                       0.008488\n",
       "NF1                        0.007118\n",
       "KMT2D                      0.004216\n",
       "TERT                       0.002553\n",
       "NCOR1                      0.001423\n",
       "PIK3CA                     0.001296"
      ]
     },
     "execution_count": 16,
     "metadata": {},
     "output_type": "execute_result"
    }
   ],
   "source": [
    "pd.DataFrame({'Feature': clf.feature_importances_}, index=X_test.columns).sort_values(by='Feature', ascending=False)\n"
   ]
  }
 ],
 "metadata": {
  "kernelspec": {
   "display_name": "Python 3 (ipykernel)",
   "language": "python",
   "name": "python3"
  },
  "language_info": {
   "codemirror_mode": {
    "name": "ipython",
    "version": 3
   },
   "file_extension": ".py",
   "mimetype": "text/x-python",
   "name": "python",
   "nbconvert_exporter": "python",
   "pygments_lexer": "ipython3",
   "version": "3.9.7"
  }
 },
 "nbformat": 4,
 "nbformat_minor": 5
}
