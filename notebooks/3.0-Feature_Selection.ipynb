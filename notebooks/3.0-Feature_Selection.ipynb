{
 "cells": [
  {
   "cell_type": "markdown",
   "id": "138d9efb-b1c0-4cc9-a9c1-d799b31f00d3",
   "metadata": {},
   "source": [
    "# Feature Selection \n",
    "---\n",
    "Reducing the dimensionality\n"
   ]
  },
  {
   "cell_type": "code",
   "execution_count": 40,
   "id": "9ba7b849-cf80-4d67-a05a-5b48d8c339d1",
   "metadata": {
    "id": "l30dypyJD6xw"
   },
   "outputs": [],
   "source": [
    "import warnings\n",
    "warnings.filterwarnings(\"ignore\", category=FutureWarning)\n",
    "\n",
    "import pandas as pd\n",
    "import numpy as np\n",
    "import seaborn as sns\n",
    "import joblib\n",
    "import matplotlib as plt\n",
    "\n",
    "from sklearn.metrics import classification_report, plot_confusion_matrix, plot_roc_curve, accuracy_score, confusion_matrix\n",
    "\n",
    "import eli5\n",
    "from eli5.sklearn import PermutationImportance\n",
    "from sklearn.svm import SVC\n",
    "from sklearn.feature_selection import SelectFromModel\n",
    "from sklearn.ensemble import RandomForestClassifier\n"
   ]
  },
  {
   "cell_type": "code",
   "execution_count": 2,
   "id": "96a81302-5f60-4f4a-a00f-37240be77f90",
   "metadata": {
    "colab": {
     "base_uri": "https://localhost:8080/"
    },
    "id": "gxE3kdC9B5ys",
    "outputId": "87fd4da5-3ed4-4515-9d13-c45dd58a4dd2"
   },
   "outputs": [],
   "source": [
    "import sys\n",
    "\n",
    "gdrive_project_root = '../' \n",
    "is_cloud = False\n",
    "\n",
    "if 'google.colab' in sys.modules:\n",
    "    is_cloud = True\n",
    "    from google.colab import drive\n",
    "    # define project root / change to match your path\n",
    "    path_mv = \"drive/MyDrive/01-Education/03-PhD/2021/Courses/HCI/hci_code/\"\n",
    "    path_mg = \"drive/MyDrive/HCI/hci_code/\"\n",
    "    path_nj = \"\"\n",
    "\n",
    "    # change to your private path\n",
    "    gdrive_project_root = path_mv\n",
    "    drive.mount('/content/drive', force_remount=True)  "
   ]
  },
  {
   "cell_type": "code",
   "execution_count": 3,
   "id": "38b8afe4-ac0a-48e0-ac05-a204ace039e8",
   "metadata": {
    "id": "loRQ_k2LpGaA"
   },
   "outputs": [],
   "source": [
    "X = pd.read_csv(gdrive_project_root  + 'data/processed/2nd_dataset/3_cls_model_input/X_3cls.csv')\n",
    "y = pd.read_csv(gdrive_project_root + 'data/processed/2nd_dataset/3_cls_model_input/y_3cls.csv')\n",
    "X_train = pd.read_csv(gdrive_project_root + 'data/processed/2nd_dataset/3_cls_model_input/X_train_3cls.csv')\n",
    "X_test = pd.read_csv(gdrive_project_root + 'data/processed/2nd_dataset/3_cls_model_input/X_test_3cls.csv')\n",
    "y_train = pd.read_csv(gdrive_project_root + 'data/processed/2nd_dataset/3_cls_model_input/y_train_3cls.csv')\n",
    "y_test = pd.read_csv(gdrive_project_root + 'data/processed/2nd_dataset/3_cls_model_input/y_test_3cls.csv')"
   ]
  },
  {
   "cell_type": "code",
   "execution_count": 4,
   "id": "6b5fe1fc-7190-45bf-baf3-4d1f7237cdc2",
   "metadata": {
    "id": "n_1tO44PpwXk",
    "outputId": "0ed5762c-6264-466f-c68a-db10e8d001ee"
   },
   "outputs": [
    {
     "name": "stderr",
     "output_type": "stream",
     "text": [
      "/home/abyss/anaconda3/envs/hci2/lib/python3.9/site-packages/sklearn/base.py:310: UserWarning: Trying to unpickle estimator DecisionTreeClassifier from version 0.22.1 when using version 0.24.2. This might lead to breaking code or invalid results. Use at your own risk.\n",
      "  warnings.warn(\n",
      "/home/abyss/anaconda3/envs/hci2/lib/python3.9/site-packages/sklearn/base.py:310: UserWarning: Trying to unpickle estimator RandomForestClassifier from version 0.22.1 when using version 0.24.2. This might lead to breaking code or invalid results. Use at your own risk.\n",
      "  warnings.warn(\n"
     ]
    }
   ],
   "source": [
    "clf = joblib.load(gdrive_project_root + 'models/CLF_3classes_GBM-AASTR-ODG_RandomForest_100estimators_42_random_state.pkl')"
   ]
  },
  {
   "cell_type": "code",
   "execution_count": 5,
   "id": "85c01790-2cfc-4dd4-9ca4-f005d06115be",
   "metadata": {
    "colab": {
     "base_uri": "https://localhost:8080/"
    },
    "id": "g7HlAJKWpwiX",
    "outputId": "2cb1384c-d66a-4f45-a6b4-c85616afa367"
   },
   "outputs": [
    {
     "name": "stdout",
     "output_type": "stream",
     "text": [
      "Model accuracy: 0.76953125 \n",
      "\n",
      "              precision    recall  f1-score   support\n",
      "\n",
      "           1       0.83      0.94      0.88       177\n",
      "           2       0.48      0.29      0.36        45\n",
      "           3       0.64      0.53      0.58        34\n",
      "\n",
      "    accuracy                           0.77       256\n",
      "   macro avg       0.65      0.59      0.61       256\n",
      "weighted avg       0.74      0.77      0.75       256\n",
      "\n"
     ]
    }
   ],
   "source": [
    "predictions = clf.predict(X_test)\n",
    "print(\"Model accuracy: %s \\n\" % accuracy_score(y_test, predictions))\n",
    "print(classification_report(y_test, predictions))"
   ]
  },
  {
   "cell_type": "code",
   "execution_count": 6,
   "id": "dec21a1a-7f6a-41eb-88bf-c8a089fe582f",
   "metadata": {
    "colab": {
     "base_uri": "https://localhost:8080/",
     "height": 298
    },
    "id": "GIzHBamJp6Tj",
    "outputId": "d2b985e6-860b-4cb4-b273-0a760090151b"
   },
   "outputs": [
    {
     "data": {
      "text/plain": [
       "<sklearn.metrics._plot.confusion_matrix.ConfusionMatrixDisplay at 0x7fe66c138d90>"
      ]
     },
     "execution_count": 6,
     "metadata": {},
     "output_type": "execute_result"
    },
    {
     "data": {
      "image/png": "[encoded data removed]",
      "text/plain": [
       "<Figure size 432x288 with 2 Axes>"
      ]
     },
     "metadata": {
      "needs_background": "light"
     },
     "output_type": "display_data"
    }
   ],
   "source": [
    "plot_confusion_matrix(clf, X_test, y_test, cmap = plt.cm.Blues, display_labels=[\"GBM\", \"AASTR\", \"ODG\"], values_format = '')"
   ]
  },
  {
   "cell_type": "markdown",
   "id": "6915ce4f-6688-4fc6-bf3b-02847d725520",
   "metadata": {},
   "source": [
    "# Permutation importance feature selection \n",
    "---\n",
    "“permutation importance” or “Mean Decrease Accuracy (MDA)”\n",
    "\n",
    "http://eli5.readthedocs.io/en/latest/blackbox/permutation_importance.html\n",
    "\n",
    "Beware! These calculations take long time to run\n"
   ]
  },
  {
   "cell_type": "code",
   "execution_count": 65,
   "id": "b88a1802-e152-4a49-8765-6ec8ea872fab",
   "metadata": {},
   "outputs": [],
   "source": [
    "# let's e.g. select features which increase accuracy by at least 0.005:\n",
    "sel = SelectFromModel(PermutationImportance(RandomForestClassifier(n_estimators=100, random_state=42, n_jobs=-1), cv=5), threshold=0.005,).fit(X_train.values, y_train.values.ravel())\n",
    "X_train2 = sel.transform(X_train.values)\n",
    "X_test2 = sel.transform(X_test.values)"
   ]
  },
  {
   "cell_type": "code",
   "execution_count": 66,
   "id": "6dd9aa48-dfaf-4916-b4bd-a656db427622",
   "metadata": {},
   "outputs": [
    {
     "data": {
      "text/plain": [
       "Index(['Overall Survival Status', 'Mutation Count',\n",
       "       'Overall Survival (Months)', 'Sex', 'Somatic Status', 'Diagnosis Age',\n",
       "       'TP53', 'CIC'],\n",
       "      dtype='object')"
      ]
     },
     "execution_count": 66,
     "metadata": {},
     "output_type": "execute_result"
    }
   ],
   "source": [
    "X_train.columns[sel.get_support()]"
   ]
  },
  {
   "cell_type": "code",
   "execution_count": 67,
   "id": "a268bc11-90d7-471c-8751-0269f13d2fbb",
   "metadata": {},
   "outputs": [
    {
     "data": {
      "text/plain": [
       "{'estimator__cv': 5,\n",
       " 'estimator__estimator__bootstrap': True,\n",
       " 'estimator__estimator__ccp_alpha': 0.0,\n",
       " 'estimator__estimator__class_weight': None,\n",
       " 'estimator__estimator__criterion': 'gini',\n",
       " 'estimator__estimator__max_depth': None,\n",
       " 'estimator__estimator__max_features': 'auto',\n",
       " 'estimator__estimator__max_leaf_nodes': None,\n",
       " 'estimator__estimator__max_samples': None,\n",
       " 'estimator__estimator__min_impurity_decrease': 0.0,\n",
       " 'estimator__estimator__min_impurity_split': None,\n",
       " 'estimator__estimator__min_samples_leaf': 1,\n",
       " 'estimator__estimator__min_samples_split': 2,\n",
       " 'estimator__estimator__min_weight_fraction_leaf': 0.0,\n",
       " 'estimator__estimator__n_estimators': 100,\n",
       " 'estimator__estimator__n_jobs': -1,\n",
       " 'estimator__estimator__oob_score': False,\n",
       " 'estimator__estimator__random_state': 42,\n",
       " 'estimator__estimator__verbose': 0,\n",
       " 'estimator__estimator__warm_start': False,\n",
       " 'estimator__estimator': RandomForestClassifier(n_jobs=-1, random_state=42),\n",
       " 'estimator__n_iter': 5,\n",
       " 'estimator__random_state': None,\n",
       " 'estimator__refit': True,\n",
       " 'estimator__scoring': None,\n",
       " 'estimator': PermutationImportance(cv=5,\n",
       "                       estimator=RandomForestClassifier(n_jobs=-1,\n",
       "                                                        random_state=42)),\n",
       " 'importance_getter': 'auto',\n",
       " 'max_features': None,\n",
       " 'norm_order': 1,\n",
       " 'prefit': False,\n",
       " 'threshold': 0.005}"
      ]
     },
     "execution_count": 67,
     "metadata": {},
     "output_type": "execute_result"
    }
   ],
   "source": [
    "sel.get_params()"
   ]
  },
  {
   "cell_type": "code",
   "execution_count": 68,
   "id": "503a375d-e7d6-479a-b6ff-a2bccfccf6e5",
   "metadata": {},
   "outputs": [
    {
     "name": "stdout",
     "output_type": "stream",
     "text": [
      "              precision    recall  f1-score   support\n",
      "\n",
      "           1       0.82      0.94      0.88       177\n",
      "           2       0.52      0.33      0.41        45\n",
      "           3       0.72      0.53      0.61        34\n",
      "\n",
      "    accuracy                           0.78       256\n",
      "   macro avg       0.69      0.60      0.63       256\n",
      "weighted avg       0.75      0.78      0.76       256\n",
      "\n"
     ]
    },
    {
     "data": {
      "text/plain": [
       "<sklearn.metrics._plot.confusion_matrix.ConfusionMatrixDisplay at 0x7fe62a7c7850>"
      ]
     },
     "execution_count": 68,
     "metadata": {},
     "output_type": "execute_result"
    },
    {
     "data": {
      "image/png": "[encoded data removed]",
      "text/plain": [
       "<Figure size 432x288 with 2 Axes>"
      ]
     },
     "metadata": {
      "needs_background": "light"
     },
     "output_type": "display_data"
    }
   ],
   "source": [
    "clf = RandomForestClassifier(n_estimators=100, random_state=42, n_jobs=-1)\n",
    "clf.fit(X_train2, y_train.values.ravel()) \n",
    "predictions = clf.predict(X_test2)\n",
    "print(classification_report(y_test, predictions))\n",
    "plot_confusion_matrix(clf, X_test2, y_test, cmap = plt.cm.Blues, display_labels=[\"GBM\", \"AASTR\", \"ODG\"], values_format = '')"
   ]
  },
  {
   "cell_type": "code",
   "execution_count": 69,
   "id": "4dc62a41-30fc-41fa-a26a-984bd4b63456",
   "metadata": {},
   "outputs": [
    {
     "data": {
      "text/plain": [
       "Overall Survival Status      0.038452\n",
       "Mutation Count               0.187950\n",
       "Overall Survival (Months)    0.368644\n",
       "Sex                          0.029495\n",
       "Somatic Status               0.018785\n",
       "Diagnosis Age                0.306006\n",
       "TP53                         0.027363\n",
       "CIC                          0.023305\n",
       "dtype: float64"
      ]
     },
     "execution_count": 69,
     "metadata": {},
     "output_type": "execute_result"
    }
   ],
   "source": [
    "pd.Series(clf.feature_importances_, index=X_train.columns[sel.get_support()])"
   ]
  },
  {
   "cell_type": "markdown",
   "id": "663a972f-027f-42cc-93a8-c87af9fee584",
   "metadata": {},
   "source": [
    "# 2nd iteration \n",
    "---\n",
    "Decreasing the threshold 10x"
   ]
  },
  {
   "cell_type": "code",
   "execution_count": 51,
   "id": "e6836e63-3b43-4628-a44e-1f49feb90423",
   "metadata": {},
   "outputs": [
    {
     "data": {
      "text/plain": [
       "Index(['Overall Survival Status', 'Mutation Count',\n",
       "       'Overall Survival (Months)', 'Sex', 'Somatic Status', 'Diagnosis Age',\n",
       "       'TP53', 'TERT', 'ATRX', 'PTEN', 'EGFR', 'CIC', 'NF1', 'TAS2R46', 'TTN',\n",
       "       'PIK3CA', 'NOTCH1', 'KMT2D', 'SMARCA4', 'KMT2C', 'ARID1B', 'MSH6',\n",
       "       'FLT4', 'NCOR1', 'CSF1R'],\n",
       "      dtype='object')"
      ]
     },
     "execution_count": 51,
     "metadata": {},
     "output_type": "execute_result"
    }
   ],
   "source": [
    "# let's e.g. select features which increase accuracy by at least 0.005:\n",
    "sel = SelectFromModel(PermutationImportance(RandomForestClassifier(n_estimators=100, random_state=42, n_jobs=-1), cv=5), threshold=0.0005,).fit(X_train.values, y_train.values.ravel())\n",
    "X_train3 = sel.transform(X_train.values)\n",
    "X_test3 = sel.transform(X_test.values)\n",
    "X_train.columns[sel.get_support()]"
   ]
  },
  {
   "cell_type": "code",
   "execution_count": 52,
   "id": "357c2a25-6e49-4e07-b741-4f5714172ed9",
   "metadata": {},
   "outputs": [
    {
     "name": "stdout",
     "output_type": "stream",
     "text": [
      "              precision    recall  f1-score   support\n",
      "\n",
      "           1       0.82      0.93      0.87       177\n",
      "           2       0.52      0.29      0.37        45\n",
      "           3       0.57      0.50      0.53        34\n",
      "\n",
      "    accuracy                           0.76       256\n",
      "   macro avg       0.64      0.57      0.59       256\n",
      "weighted avg       0.73      0.76      0.74       256\n",
      "\n"
     ]
    },
    {
     "data": {
      "text/plain": [
       "<sklearn.metrics._plot.confusion_matrix.ConfusionMatrixDisplay at 0x7fe62a707a90>"
      ]
     },
     "execution_count": 52,
     "metadata": {},
     "output_type": "execute_result"
    },
    {
     "data": {
      "image/png": "[encoded data removed]",
      "text/plain": [
       "<Figure size 432x288 with 2 Axes>"
      ]
     },
     "metadata": {
      "needs_background": "light"
     },
     "output_type": "display_data"
    }
   ],
   "source": [
    "clf = RandomForestClassifier(n_estimators=100, random_state=42, n_jobs=-1)\n",
    "clf.fit(X_train3, y_train.values.ravel()) \n",
    "predictions = clf.predict(X_test3)\n",
    "print(classification_report(y_test, predictions))\n",
    "plot_confusion_matrix(clf, X_test3, y_test, cmap = plt.cm.Blues, display_labels=[\"GBM\", \"AASTR\", \"ODG\"], values_format = '')"
   ]
  },
  {
   "cell_type": "code",
   "execution_count": 59,
   "id": "2f63a825-701d-4a21-b6d8-b200a8f23ab3",
   "metadata": {},
   "outputs": [
    {
     "data": {
      "text/plain": [
       "Overall Survival Status      0.039184\n",
       "Mutation Count               0.172153\n",
       "Overall Survival (Months)    0.359894\n",
       "Sex                          0.028524\n",
       "Somatic Status               0.017377\n",
       "Diagnosis Age                0.275620\n",
       "TP53                         0.025784\n",
       "TERT                         0.002483\n",
       "ATRX                         0.008155\n",
       "PTEN                         0.001177\n",
       "EGFR                         0.008940\n",
       "CIC                          0.024497\n",
       "NF1                          0.006949\n",
       "TAS2R46                      0.003417\n",
       "TTN                          0.002829\n",
       "PIK3CA                       0.001250\n",
       "NOTCH1                       0.008684\n",
       "KMT2D                        0.003629\n",
       "SMARCA4                      0.002697\n",
       "KMT2C                        0.000989\n",
       "ARID1B                       0.001062\n",
       "MSH6                         0.002693\n",
       "FLT4                         0.000638\n",
       "NCOR1                        0.001043\n",
       "CSF1R                        0.000333\n",
       "dtype: float64"
      ]
     },
     "execution_count": 59,
     "metadata": {},
     "output_type": "execute_result"
    }
   ],
   "source": [
    "pd.Series(clf.feature_importances_, index=X_train.columns[sel.get_support()])\n"
   ]
  },
  {
   "cell_type": "markdown",
   "id": "ce6f4f6d-78bd-4a19-bc57-7634bdc80ef3",
   "metadata": {},
   "source": [
    "# 3rd iteration \n",
    "---\n",
    "Increasing the threshold 10x"
   ]
  },
  {
   "cell_type": "code",
   "execution_count": 60,
   "id": "e7e61bb1-ef97-47a8-808a-4b0029107d29",
   "metadata": {},
   "outputs": [
    {
     "data": {
      "text/plain": [
       "Index(['Overall Survival (Months)', 'Diagnosis Age'], dtype='object')"
      ]
     },
     "execution_count": 60,
     "metadata": {},
     "output_type": "execute_result"
    }
   ],
   "source": [
    "# let's e.g. select features which increase accuracy by at least 0.05:\n",
    "sel = SelectFromModel(PermutationImportance(RandomForestClassifier(n_estimators=100, random_state=42, n_jobs=-1), cv=5), threshold=0.05,).fit(X_train.values, y_train.values.ravel())\n",
    "X_train4 = sel.transform(X_train.values)\n",
    "X_test4 = sel.transform(X_test.values)\n",
    "X_train.columns[sel.get_support()]"
   ]
  },
  {
   "cell_type": "code",
   "execution_count": 61,
   "id": "1b572c8d-9b6e-489b-88a7-a44b1e808a55",
   "metadata": {},
   "outputs": [
    {
     "name": "stdout",
     "output_type": "stream",
     "text": [
      "              precision    recall  f1-score   support\n",
      "\n",
      "           1       0.81      0.86      0.84       177\n",
      "           2       0.42      0.42      0.42        45\n",
      "           3       0.50      0.35      0.41        34\n",
      "\n",
      "    accuracy                           0.71       256\n",
      "   macro avg       0.58      0.54      0.56       256\n",
      "weighted avg       0.70      0.71      0.71       256\n",
      "\n"
     ]
    },
    {
     "data": {
      "text/plain": [
       "<sklearn.metrics._plot.confusion_matrix.ConfusionMatrixDisplay at 0x7fe6308360d0>"
      ]
     },
     "execution_count": 61,
     "metadata": {},
     "output_type": "execute_result"
    },
    {
     "data": {
      "image/png": "[encoded data removed]",
      "text/plain": [
       "<Figure size 432x288 with 2 Axes>"
      ]
     },
     "metadata": {
      "needs_background": "light"
     },
     "output_type": "display_data"
    }
   ],
   "source": [
    "clf = RandomForestClassifier(n_estimators=100, random_state=42, n_jobs=-1)\n",
    "clf.fit(X_train4, y_train.values.ravel()) \n",
    "predictions = clf.predict(X_test4)\n",
    "print(classification_report(y_test, predictions))\n",
    "plot_confusion_matrix(clf, X_test4, y_test, cmap = plt.cm.Blues, display_labels=[\"GBM\", \"AASTR\", \"ODG\"], values_format = '')"
   ]
  },
  {
   "cell_type": "code",
   "execution_count": 62,
   "id": "fb721a0b-7133-4ca0-919f-8998775e0b41",
   "metadata": {},
   "outputs": [
    {
     "data": {
      "text/plain": [
       "Overall Survival (Months)    0.631728\n",
       "Diagnosis Age                0.368272\n",
       "dtype: float64"
      ]
     },
     "execution_count": 62,
     "metadata": {},
     "output_type": "execute_result"
    }
   ],
   "source": [
    "pd.Series(clf.feature_importances_, index=X_train.columns[sel.get_support()])\n"
   ]
  }
 ],
 "metadata": {
  "kernelspec": {
   "display_name": "Python 3 (ipykernel)",
   "language": "python",
   "name": "python3"
  },
  "language_info": {
   "codemirror_mode": {
    "name": "ipython",
    "version": 3
   },
   "file_extension": ".py",
   "mimetype": "text/x-python",
   "name": "python",
   "nbconvert_exporter": "python",
   "pygments_lexer": "ipython3",
   "version": "3.9.7"
  }
 },
 "nbformat": 4,
 "nbformat_minor": 5
}
